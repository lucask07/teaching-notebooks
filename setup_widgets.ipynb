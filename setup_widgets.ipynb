{
 "cells": [
  {
   "cell_type": "code",
   "execution_count": 5,
   "metadata": {},
   "outputs": [],
   "source": [
    "%matplotlib widget"
   ]
  },
  {
   "cell_type": "markdown",
   "metadata": {},
   "source": [
    "# Introduction to Jupyter Notebooks and Sympy (symbolic math package)"
   ]
  },
  {
   "cell_type": "markdown",
   "metadata": {},
   "source": [
    "## Python Package Imports"
   ]
  },
  {
   "cell_type": "code",
   "execution_count": 6,
   "metadata": {},
   "outputs": [
    {
     "name": "stdout",
     "output_type": "stream",
     "text": [
      "The autoreload extension is already loaded. To reload it, use:\n",
      "  %reload_ext autoreload\n"
     ]
    },
    {
     "name": "stderr",
     "output_type": "stream",
     "text": [
      "/Applications/anaconda3/anaconda3/lib/python3.6/site-packages/matplotlib/__init__.py:800: MatplotlibDeprecationWarning: axes.color_cycle is deprecated and replaced with axes.prop_cycle; please use the latter.\n",
      "  mplDeprecation)\n"
     ]
    }
   ],
   "source": [
    "%load_ext autoreload\n",
    "%autoreload 2\n",
    "import numpy as np\n",
    "import matplotlib.pyplot as plt \n",
    "from mpl_toolkits.mplot3d import axes3d\n",
    "import matplotlib.cm as cm\n",
    "from IPython.display import display, Math, clear_output\n",
    "\n",
    "import sympy  #Sympy1.2 is from conda-forge: [sudo conda install -c conda-forge sympy]\n",
    "from sympy import *\n",
    "from sympy.physics.vector import ReferenceFrame, CoordinateSym\n",
    "from sympy.vector import CoordSys3D, divergence, curl\n",
    "\n",
    "import ipyvolume as ipv\n",
    "import time\n",
    "from ipywidgets import Output\n",
    "\n",
    "import helpers\n",
    "\n",
    "np.seterr(divide='ignore', invalid='ignore');\n",
    "\n",
    "import json\n",
    "import matplotlib\n",
    "s = json.load(open(\"styles/bmh_matplotlibrc.json\"))\n",
    "matplotlib.rcParams.update(s)"
   ]
  },
  {
   "cell_type": "markdown",
   "metadata": {},
   "source": [
    "### Check versions of important packages \n",
    "(Need Sympy Version >=1.2 from conda-forge)"
   ]
  },
  {
   "cell_type": "code",
   "execution_count": 7,
   "metadata": {},
   "outputs": [
    {
     "name": "stdout",
     "output_type": "stream",
     "text": [
      "Ipyvolume version = 0.4.6\n",
      "Sympy version = 1.2\n",
      "IPyVolume version = 0.4.6\n"
     ]
    }
   ],
   "source": [
    "print('Ipyvolume version = {}'.format(ipv.__version__))\n",
    "print('Sympy version = {}'.format(sympy.__version__))\n",
    "print('IPyVolume version = {}'.format(ipv.__version__))"
   ]
  },
  {
   "cell_type": "markdown",
   "metadata": {},
   "source": [
    "## Let's check that plotting and the plotting widget are correctly installed"
   ]
  },
  {
   "cell_type": "markdown",
   "metadata": {},
   "source": [
    "The plot may be hidden with only a \"power\" button in the upper-right. Click this button to toggle the display of the plot. Note the widgets below the plot that allow you to: 1) 'home' the view; 2) toggle the view forward or backwards; 3) pan the axes; 4) zoom to a rectangle and; 5) save/download the figure."
   ]
  },
  {
   "cell_type": "code",
   "execution_count": 8,
   "metadata": {},
   "outputs": [
    {
     "data": {
      "application/vnd.jupyter.widget-view+json": {
       "model_id": "d254b8d38d8a4e259c6c21198184697e",
       "version_major": 2,
       "version_minor": 0
      },
      "text/plain": [
       "A Jupyter Widget"
      ]
     },
     "metadata": {},
     "output_type": "display_data"
    }
   ],
   "source": [
    "init_printing()\n",
    "plt.figure()\n",
    "plt.plot([1,2,3])\n",
    "plt.show()"
   ]
  },
  {
   "cell_type": "markdown",
   "metadata": {},
   "source": [
    "## Sympy is a Python module for symbolic mathematics. \n",
    "\n",
    "#### The basics of vectors and fields in Sympy are:\n",
    "1. Unit vectors are indicated by a . (For example, R.x is the unit vector in the x direction). \n",
    "2. Scalars are indicated by [] (For example, R[0] is x)\n",
    "\n",
    "#### Sympy functions and capabilities to be aware of:\n",
    "From the [**Sympy.vector**](http://docs.sympy.org/latest/modules/vector/index.html) module: \n",
    "\n",
    "Vector calculus examples specific to electrodynamics include:\n",
    "\n",
    "1. [divergence](http://docs.sympy.org/latest/modules/vector/api/vectorfunctions.html#divergence)\n",
    "2. [curl](http://docs.sympy.org/latest/modules/vector/api/vectorfunctions.html#curl)\n",
    "3. [gradient](http://docs.sympy.org/latest/modules/vector/api/vectorfunctions.html#gradient)\n",
    "4. [scalar_potential](http://docs.sympy.org/latest/modules/vector/api/vectorfunctions.html#scalar_potential)\n",
    "5. [scalar_potential_difference](http://docs.sympy.org/latest/modules/vector/api/vectorfunctions.html#potential_difference)\n",
    "6. [is_conservative](http://docs.sympy.org/latest/modules/vector/api/vectorfunctions.html#is_conservative)\n",
    "\n",
    "#### Sympy can evaluate integrals and derivates symbolically and numerically:\n",
    "\n",
    "1. [integrals](http://docs.sympy.org/latest/tutorial/calculus.html?highlight=derivatives#integrals)\n",
    "2. [derivatives](http://docs.sympy.org/latest/tutorial/calculus.html?highlight=derivatives#derivatives)\n",
    "\n",
    "#### Sympy supports non-Cartesian coordinate systems:\n",
    "1. The coordinate system can be represented in non-Cartesian systems, such as spherical or cylindrical:  \n",
    "`A = CoordSys3D('A', transformation='spherical')  # (transformation parameter requires Sympy 1.2)`\n",
    "[coordinate transformations](http://docs.sympy.org/latest/modules/vector/coordsys.html#transforming-new-system)"
   ]
  }
 ],
 "metadata": {
  "kernelspec": {
   "display_name": "Python 3",
   "language": "python",
   "name": "python3"
  },
  "language_info": {
   "codemirror_mode": {
    "name": "ipython",
    "version": 3
   },
   "file_extension": ".py",
   "mimetype": "text/x-python",
   "name": "python",
   "nbconvert_exporter": "python",
   "pygments_lexer": "ipython3",
   "version": "3.6.3"
  }
 },
 "nbformat": 4,
 "nbformat_minor": 2
}
