{
 "cells": [
  {
   "cell_type": "code",
   "execution_count": 1,
   "metadata": {},
   "outputs": [],
   "source": [
    "%matplotlib widget"
   ]
  },
  {
   "cell_type": "code",
   "execution_count": 2,
   "metadata": {},
   "outputs": [
    {
     "data": {
      "text/plain": [
       "{'divide': 'warn', 'over': 'warn', 'under': 'ignore', 'invalid': 'warn'}"
      ]
     },
     "execution_count": 2,
     "metadata": {},
     "output_type": "execute_result"
    }
   ],
   "source": [
    "import numpy as np\n",
    "import matplotlib.pyplot as plt \n",
    "from mpl_toolkits.mplot3d import axes3d\n",
    "import matplotlib.cm as cm\n",
    "from IPython.display import display, Math, clear_output\n",
    "\n",
    "import sympy \n",
    "from sympy import *\n",
    "from sympy.physics.vector import ReferenceFrame, CoordinateSym\n",
    "from sympy.vector import CoordSys3D, divergence, curl\n",
    "\n",
    "import ipyvolume as ipv\n",
    "import time\n",
    "from ipywidgets import Output\n",
    "np.seterr(divide='ignore', invalid='ignore')"
   ]
  },
  {
   "cell_type": "markdown",
   "metadata": {},
   "source": [
    "## Sympy Basics: \n",
    "1. Unit vectors are indicated by a . (For example, R.x is the unit vector in the x direction). \n",
    "2. Scalars are indicated by [] (For example, R[0] is x)"
   ]
  },
  {
   "cell_type": "markdown",
   "metadata": {},
   "source": [
    "## First let's import packages"
   ]
  },
  {
   "cell_type": "code",
   "execution_count": 3,
   "metadata": {},
   "outputs": [],
   "source": [
    "## Check versions\n",
    "### Need Sympy Version 1.2 (from conda-forge)"
   ]
  },
  {
   "cell_type": "code",
   "execution_count": 4,
   "metadata": {},
   "outputs": [
    {
     "name": "stdout",
     "output_type": "stream",
     "text": [
      "Ipyvolume version = 0.4.6\n",
      "Sympy version = 1.2\n"
     ]
    }
   ],
   "source": [
    "print('Ipyvolume version = {}'.format(ipv.__version__))\n",
    "print('Sympy version = {}'.format(sympy.__version__))"
   ]
  },
  {
   "cell_type": "code",
   "execution_count": 5,
   "metadata": {},
   "outputs": [],
   "source": [
    "## Now let's checking that plotting and the plotting widget work"
   ]
  },
  {
   "cell_type": "code",
   "execution_count": 6,
   "metadata": {},
   "outputs": [
    {
     "data": {
      "image/png": "[encoded data removed]",
      "text/plain": [
       "<matplotlib.figure.Figure at 0x111e244e0>"
      ]
     },
     "metadata": {},
     "output_type": "display_data"
    }
   ],
   "source": [
    "init_printing()\n",
    "plt.figure()\n",
    "plt.plot([1,2,3])\n",
    "plt.show()"
   ]
  },
  {
   "cell_type": "markdown",
   "metadata": {},
   "source": [
    "## Installation notes\n",
    "Sympy1.2 is from conda-forge:\n",
    "1. sudo conda install -c conda-forge sympy "
   ]
  },
  {
   "cell_type": "markdown",
   "metadata": {},
   "source": [
    "## Calculate the divergence of a function using sympy and visualize the result"
   ]
  },
  {
   "cell_type": "code",
   "execution_count": 19,
   "metadata": {},
   "outputs": [
    {
     "name": "stdout",
     "output_type": "stream",
     "text": [
      "Divergence:\n"
     ]
    },
    {
     "data": {
      "text/latex": [
       "$$\\mathbf{{x}_{A}} \\mathbf{{y}_{A}} + \\mathbf{{x}_{A}} \\mathbf{{z}_{A}} + \\mathbf{{y}_{A}} \\mathbf{{z}_{A}}$$"
      ],
      "text/plain": [
       "<IPython.core.display.Math object>"
      ]
     },
     "metadata": {},
     "output_type": "display_data"
    },
    {
     "name": "stdout",
     "output_type": "stream",
     "text": [
      "--------------------------------------------------------------------------------------------------------------------------------------------\n",
      "Min of x = 0.0; Max of x = 10.0\n"
     ]
    },
    {
     "data": {
      "application/vnd.jupyter.widget-view+json": {
       "model_id": "6274214f783d4fee95571c0a6764f5b5",
       "version_major": 2,
       "version_minor": 0
      },
      "text/plain": [
       "A Jupyter Widget"
      ]
     },
     "metadata": {},
     "output_type": "display_data"
    },
    {
     "name": "stdout",
     "output_type": "stream",
     "text": [
      "Function evaluated at a point = 0\n",
      "Function evaluated at a point = 300\n"
     ]
    }
   ],
   "source": [
    "A = CoordSys3D('A')  # the transformation parameter requires Sympy 1.2 \n",
    "vars = symbols('A.x A.y A.z')  # this is to fix a lambdify \"bug\" \n",
    "\n",
    "def check_lambdify_out(data, *args):\n",
    "    # print('Length of args: {}'.format([len(x) for x in args]))\n",
    "    if not np.shape(data):\n",
    "        return data*np.ones([len(x) for x in args])\n",
    "    elif np.shape(data) != tuple([len(x) for x in args]):\n",
    "        print('Error: Data is not a constant and not the same shape as input')\n",
    "        return data\n",
    "    elif  np.shape(data) == tuple([len(x) for x in args]):\n",
    "        return data\n",
    "    else: \n",
    "        print(\"No idea! We shouldn't get here\")\n",
    "\n",
    "# x*y*z*(xhat + yhat + zhat)\n",
    "field = A.x*A.y*A.z*(A.i + A.j + A.k)\n",
    "\n",
    "div = divergence(field)\n",
    "print('Divergence:')\n",
    "display(Math(r'{}'.format(latex(div))))\n",
    "print('-'*140)\n",
    "div_func = lambdify(vars, div.subs(dict(zip([A.x, A.y, A.z], vars))), modules='numpy')\n",
    "\n",
    "# https://github.com/maartenbreddels/ipyvolume/issues/79\n",
    "x = np.linspace(-10, 10, 41)\n",
    "y = np.linspace(-10, 10, 41)\n",
    "z = np.linspace(-10, 10, 41)\n",
    "x = np.linspace(0, 10, 41)\n",
    "y = np.linspace(0, 10, 41)\n",
    "z = np.linspace(0, 10, 41)\n",
    "X, Y, Z = np.meshgrid(x,y,z, indexing='ij')\n",
    "print('Min of x = {}; Max of x = {}'.format(np.min(X), np.max(X)))\n",
    "divergence_data = check_lambdify_out(div_func(X, Y, Z), X, Y, Z)\n",
    "\n",
    "# plot a 3d figure \n",
    "ipv.figure()\n",
    "ipv.volshow(divergence_data.T, opacity=0.03, level_width=0.2)\n",
    "# ipv.view(azimuth = 115, elevation = 90)\n",
    "ipv.show()\n",
    "\n",
    "print('Function evaluated at a point = {}'.format(div_func(0,0,0)))\n",
    "print('Function evaluated at a point = {}'.format(div_func(10,10,10)))"
   ]
  },
  {
   "cell_type": "code",
   "execution_count": 26,
   "metadata": {},
   "outputs": [
    {
     "name": "stdout",
     "output_type": "stream",
     "text": [
      "A.i\n",
      "A.j\n",
      "A.k\n"
     ]
    },
    {
     "data": {
      "application/vnd.jupyter.widget-view+json": {
       "model_id": "f3f4eb06c5f344d0b83dbe2478eb9938",
       "version_major": 2,
       "version_minor": 0
      },
      "text/plain": [
       "A Jupyter Widget"
      ]
     },
     "metadata": {},
     "output_type": "display_data"
    },
    {
     "data": {
      "text/plain": [
       "[<matplotlib.lines.Line2D at 0x181f0fc438>]"
      ]
     },
     "execution_count": 26,
     "metadata": {},
     "output_type": "execute_result"
    },
    {
     "data": {
      "image/png": "[encoded data removed]",
      "text/plain": [
       "<matplotlib.figure.Figure at 0x181f0c4f28>"
      ]
     },
     "metadata": {},
     "output_type": "display_data"
    }
   ],
   "source": [
    "x = np.linspace(-10, 10, 10)\n",
    "y = np.linspace(-10, 10, 10)\n",
    "z = np.linspace(-10, 10, 10)\n",
    "X, Y, Z = np.meshgrid(x,y,z, indexing='ij')\n",
    " \n",
    "c_eval = {}\n",
    "def evaluate_field_components(field, X, Y, Z):\n",
    "    vars = symbols('A.x A.y A.z')  # this is to fix a lambdify \"bug\" \n",
    "    for c in field.components:\n",
    "        print(c)\n",
    "        l_func = lambdify(vars, field.components[c].subs(dict(zip([A.x, A.y, A.z], vars))), modules='numpy')\n",
    "        c_eval[c] = l_func(X,Y,Z)\n",
    "        \n",
    "    return (c_eval[A.i], c_eval[A.j], c_eval[A.k])\n",
    "                \n",
    "c = field.components\n",
    "u,v,w = evaluate_field_components(field, X,Y,Z)\n",
    "\n",
    "ipv.figure()\n",
    "quiver = ipv.quickquiver(X.flatten(), Y.flatten(), Z.flatten(), u.flatten(), v.flatten(), w.flatten(), size=2)\n",
    "ipv.show()\n",
    "\n",
    "plt.figure()\n",
    "plt.plot(X.flatten(), v.flatten())"
   ]
  },
  {
   "cell_type": "markdown",
   "metadata": {},
   "source": [
    "## Symbolic Calculation of the Gradient "
   ]
  },
  {
   "cell_type": "code",
   "execution_count": 8,
   "metadata": {
    "collapsed": true
   },
   "outputs": [
    {
     "name": "stdout",
     "output_type": "stream",
     "text": [
      "Gradient of: x**2\n",
      "[2*x, 0, 0]\n",
      "(3,)\n",
      "(41, 41, 41), (41, 41, 41), (41, 41, 41)\n",
      "(41, 41, 41)\n",
      "[2, 0, 0]\n",
      "2\n"
     ]
    },
    {
     "data": {
      "application/vnd.jupyter.widget-view+json": {
       "model_id": "709c83aa1d394cf8b9ddd639ddd5ca98",
       "version_major": 2,
       "version_minor": 0
      },
      "text/plain": [
       "A Jupyter Widget"
      ]
     },
     "metadata": {},
     "output_type": "display_data"
    }
   ],
   "source": [
    "#define symbolic vars, function\n",
    "x,y,z =sympy.symbols('x y z')\n",
    "fun = x**2\n",
    "\n",
    "# evaluate the gradient symbolically\n",
    "gradfun = [sympy.diff(fun, var) for var in (x,y,z)]\n",
    "print('Gradient of: {}'.format(fun))\n",
    "print(gradfun)\n",
    "print(np.shape(gradfun))\n",
    "\n",
    "#turn into a bivariate lambda for numpy\n",
    "numgradfun = sympy.lambdify([x,y,z], gradfun)\n",
    "\n",
    "x = np.linspace(-10, 10, 41)\n",
    "y = np.linspace(-10, 10, 41)\n",
    "z = np.linspace(-10, 10, 41)\n",
    "X, Y, Z = np.meshgrid(x,y,z, indexing='ij')\n",
    "\n",
    "gradient_eval = sum(numgradfun(X, Y, Z))\n",
    "\n",
    "print('{}, {}, {}'.format(np.shape(X),np.shape(Y),np.shape(Z)))\n",
    "print(np.shape(gradient_eval))\n",
    "print(numgradfun(1,1,2))\n",
    "print(sum(numgradfun(1,1,2)))\n",
    "ipv.figure()\n",
    "ipv.volshow(gradient_eval.T, opacity=0.03, level_width=0.1, data_min=0, data_max=1)\n",
    "ipv.view(azimuth = 115, elevation = 90)\n",
    "ipv.show()"
   ]
  },
  {
   "cell_type": "code",
   "execution_count": 9,
   "metadata": {
    "collapsed": true
   },
   "outputs": [],
   "source": [
    "### In Spherical coords? https://github.com/sympy/sympy/blob/master/examples/advanced/curvilinear_coordinates.py\n",
    "## Or: http://docs.sympy.org/latest/modules/vector/coordsys.html?highlight=coordsys3d"
   ]
  },
  {
   "cell_type": "code",
   "execution_count": 16,
   "metadata": {},
   "outputs": [
    {
     "name": "stdout",
     "output_type": "stream",
     "text": [
      "                 2                 2         \n",
      "          - c⋅sin (A_theta) + c⋅cos (A_theta)\n",
      "4⋅A_r⋅a + ───────────────────────────────────\n",
      "                      2                      \n",
      "                   A_r ⋅sin(A_theta)         \n"
     ]
    },
    {
     "data": {
      "text/latex": [
       "$$4 \\mathbf{{r}_{A}} a + \\frac{- c \\sin^{2}{\\left (\\mathbf{{theta}_{A}} \\right )} + c \\cos^{2}{\\left (\\mathbf{{theta}_{A}} \\right )}}{\\mathbf{{r}_{A}}^{2} \\sin{\\left (\\mathbf{{theta}_{A}} \\right )}}$$"
      ],
      "text/plain": [
       "<IPython.core.display.Math object>"
      ]
     },
     "metadata": {},
     "output_type": "display_data"
    }
   ],
   "source": [
    "A = CoordSys3D('A', transformation='spherical')  # the transformation parameter requires Sympy 1.2 \n",
    "r, theta, phi, a, b, c = symbols('r theta phi a b c')\n",
    "\n",
    "vec_field = a*A.r**2*A.i + c*cos(A.theta)/A.r*A.j + b * A.k \n",
    "div = divergence(vec_field)\n",
    "pprint(div)\n",
    "display(Math(r'{}'.format(latex(div))))"
   ]
  },
  {
   "cell_type": "code",
   "execution_count": null,
   "metadata": {},
   "outputs": [],
   "source": [
    "var(\"rho theta phi\")\n",
    "x_hat = Matrix([\n",
    "    rho * sin(theta) * cos(phi),\n",
    "    rho * sin(theta) * sin(phi),\n",
    "    rho * cos(theta)])\n",
    "x = Matrix([rho, theta, phi])\n",
    "\n",
    "M = zeros(3, 3)\n",
    "for i in range(3):\n",
    "    for j in range(3):\n",
    "        M[i, j] = x_hat[i].diff(x[j])\n",
    "\n",
    "N = M.inv(method=\"ADJ\")\n",
    "one = sin(phi)**2*sin(theta)**2 - cos(phi)**2*cos(theta)**2 + \\\n",
    "        cos(phi)**2 + cos(theta)**2\n",
    "one_simple = one.subs(sin(phi)**2, 1-cos(phi)**2).expand().simplify()\n",
    "N.simplify()\n",
    "# one_simple is equal to 1, but simplify() can't do this automatically yet:\n",
    "N = N.subs(one, one_simple)\n",
    "\n",
    "display(Math(r'J = {}'.format(latex(M))))\n",
    "display(Math(r'inv(J) = {}'.format(latex(M))))"
   ]
  },
  {
   "cell_type": "markdown",
   "metadata": {},
   "source": [
    "$$\n",
    "a_1 = b_1 + c_1 \\\\\n",
    "a_2 = b_2 + c_2 + d_2\n",
    "$$"
   ]
  },
  {
   "cell_type": "markdown",
   "metadata": {},
   "source": [
    "## Let's calculate the divergence of a function using sympy and visualize the result"
   ]
  },
  {
   "cell_type": "code",
   "execution_count": null,
   "metadata": {},
   "outputs": [],
   "source": [
    "# import numpy as np\n",
    "# import matplotlib.pyplot as plt\n",
    "\n",
    "# X,Y=np.meshgrid(np.arange(-10,11),np.arange(-10,11))\n",
    "# graddat=numgradfun(X,Y)\n",
    "\n",
    "# plt.quiver(X,Y,graddat[0],graddat[1])\n",
    "# plt.show()"
   ]
  },
  {
   "cell_type": "code",
   "execution_count": null,
   "metadata": {},
   "outputs": [],
   "source": [
    "# R = ReferenceFrame('R')\n",
    "# x,y,z = sympy.symbols('x y z')\n",
    "\n",
    "# F = R[1]**2 * R[2] * R.x - R[0]*R[1] * R.y + R[2]**2 * R.z\n",
    "# G = curl(F)  \n",
    "\n",
    "# #turn into a bivariate lambda for numpy\n",
    "# curl_fun = sympy.lambdify([x, y, z], G)\n",
    "\n",
    "# fig = plt.figure()\n",
    "# ax = fig.gca(projection='3d')\n",
    "\n",
    "# X,Y,Z = np.meshgrid(np.arange(-0.8, 1, 0.2),\n",
    "#                       np.arange(-0.8, 1, 0.2),\n",
    "#                       np.arange(-0.8, 1, 0.8))\n",
    "# curl_eval = numgradfun(X, Y, Z)\n",
    "\n",
    "# ax.quiver(x, y, z, curl_eval[0], curl_eval[1], curl_eval[2], length=0.1)\n",
    "\n",
    "# plt.show()"
   ]
  },
  {
   "cell_type": "markdown",
   "metadata": {},
   "source": [
    "## Here we demonstrate a surface (or mesh or wireframe) plot. \n",
    "### The input data to a 3D surface plot is 3 vectors (i.e. x,y,z). These vectors define a surface; the surface is not a vector field, nor is it a scalar value defined at all points in space. "
   ]
  },
  {
   "cell_type": "code",
   "execution_count": null,
   "metadata": {
    "collapsed": true
   },
   "outputs": [],
   "source": [
    "# Create the data.\n",
    "dphi, dtheta = np.pi/250.0, pi/250.0\n",
    "[phi,theta] = np.mgrid[0:np.pi+dphi*1.5:dphi,0:2*np.pi+dtheta*1.5:dtheta]\n",
    "m0 = 4; m1 = 3; m2 = 2; m3 = 3; m4 = 6; m5 = 2; m6 = 6; m7 = 4;\n",
    "r = np.sin(m0*phi)**m1 + np.cos(m2*phi)**m3 + np.sin(m4*theta)**m5 + np.cos(m6*theta)**m7\n",
    "x = r*np.sin(phi)*np.cos(theta)\n",
    "y = r*np.cos(phi)\n",
    "z = r*np.sin(phi)*np.sin(theta)\n",
    "\n",
    "# And surface/mesh plots, showing surfaces or wireframes.\n",
    "ipv.clear()\n",
    "ipv.figure()\n",
    "ipv.plot_mesh(x, y, z, wireframe=False)\n",
    "ipv.squarelim()\n",
    "ipv.show()"
   ]
  },
  {
   "cell_type": "markdown",
   "metadata": {},
   "source": [
    "## Here we demonstrate a quiver plot, which shows a vector at each position\n",
    "### The input data to a 3D quiver plot is: \n",
    "1. a sequence of three vectors which define the position of each point **and** \n",
    "2. a sequence of three vectors which define the magnitude and direction at each point."
   ]
  },
  {
   "cell_type": "code",
   "execution_count": 23,
   "metadata": {},
   "outputs": [
    {
     "name": "stdout",
     "output_type": "stream",
     "text": [
      "(1000,)\n",
      "(1000,)\n"
     ]
    },
    {
     "data": {
      "application/vnd.jupyter.widget-view+json": {
       "model_id": "d9d104d65f674fab84cb1cab0a8d49d2",
       "version_major": 2,
       "version_minor": 0
      },
      "text/plain": [
       "A Jupyter Widget"
      ]
     },
     "metadata": {},
     "output_type": "display_data"
    }
   ],
   "source": [
    "# quiver plot, vector at each position\n",
    "x, y, z, u, v, w = np.random.random((6, 1000))*2-1\n",
    "\n",
    "print(np.shape(x))\n",
    "print(np.shape(u))\n",
    "\n",
    "quiver = ipv.quickquiver(x, y, z, u, v, w, size=5)\n",
    "ipv.show()"
   ]
  },
  {
   "cell_type": "code",
   "execution_count": null,
   "metadata": {},
   "outputs": [],
   "source": [
    "x, y, z, u, v, w = np.random.random((6, 1000))*2-1\n",
    "selected = np.random.randint(0, 1000, 100)\n",
    "ipv.figure()\n",
    "quiver = ipv.quiver(x, y, z, u, v, w, size=5, size_selected=8, selected=selected)\n",
    "\n",
    "from ipywidgets import FloatSlider, ColorPicker, VBox, jslink\n",
    "\n",
    "size = FloatSlider(min=0, max=30, step=0.1)\n",
    "size_selected = FloatSlider(min=0, max=30, step=0.1)\n",
    "color = ColorPicker()\n",
    "color_selected = ColorPicker()\n",
    "jslink((quiver, 'size'), (size, 'value'))\n",
    "jslink((quiver, 'size_selected'), (size_selected, 'value'))\n",
    "jslink((quiver, 'color'), (color, 'value'))\n",
    "jslink((quiver, 'color_selected'), (color_selected, 'value'))\n",
    "VBox([ipv.gcc(), size, size_selected, color, color_selected])"
   ]
  },
  {
   "cell_type": "code",
   "execution_count": null,
   "metadata": {},
   "outputs": [],
   "source": [
    "out = Output()\n",
    "plt.figure()\n",
    "with out:\n",
    "        clear_output(wait=True)\n",
    "        plt.plot([1,2,3])\n",
    "        time.sleep(1)"
   ]
  },
  {
   "cell_type": "code",
   "execution_count": null,
   "metadata": {},
   "outputs": [],
   "source": []
  }
 ],
 "metadata": {
  "kernelspec": {
   "display_name": "Python 3",
   "language": "python",
   "name": "python3"
  },
  "language_info": {
   "codemirror_mode": {
    "name": "ipython",
    "version": 3
   },
   "file_extension": ".py",
   "mimetype": "text/x-python",
   "name": "python",
   "nbconvert_exporter": "python",
   "pygments_lexer": "ipython3",
   "version": "3.6.3"
  }
 },
 "nbformat": 4,
 "nbformat_minor": 2
}
