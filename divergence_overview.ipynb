{
 "cells": [
  {
   "cell_type": "code",
   "execution_count": 1,
   "metadata": {
    "collapsed": true
   },
   "outputs": [],
   "source": [
    "%matplotlib widget"
   ]
  },
  {
   "cell_type": "markdown",
   "metadata": {},
   "source": [
    "## Python Package Imports"
   ]
  },
  {
   "cell_type": "code",
   "execution_count": 2,
   "metadata": {},
   "outputs": [
    {
     "data": {
      "text/html": [
       "\n",
       "<style>\n",
       ".output_png {\n",
       "    display: table-cell;\n",
       "    text-align: right;\n",
       "    vertical-align: middle;\n",
       "}\n",
       "</style>\n"
      ],
      "text/plain": [
       "<IPython.core.display.HTML object>"
      ]
     },
     "execution_count": 2,
     "metadata": {},
     "output_type": "execute_result"
    }
   ],
   "source": [
    "from IPython.core.display import HTML\n",
    "HTML(\"\"\"\n",
    "<style>\n",
    ".output_png {\n",
    "    display: table-cell;\n",
    "    text-align: right;\n",
    "    vertical-align: middle;\n",
    "}\n",
    "</style>\n",
    "\"\"\")"
   ]
  },
  {
   "cell_type": "code",
   "execution_count": 3,
   "metadata": {},
   "outputs": [
    {
     "name": "stderr",
     "output_type": "stream",
     "text": [
      "/Applications/anaconda3/anaconda3/lib/python3.6/site-packages/matplotlib/__init__.py:800: MatplotlibDeprecationWarning: axes.color_cycle is deprecated and replaced with axes.prop_cycle; please use the latter.\n",
      "  mplDeprecation)\n"
     ]
    }
   ],
   "source": [
    "import json\n",
    "import matplotlib\n",
    "s = json.load(open(\"styles/bmh_matplotlibrc.json\"))\n",
    "matplotlib.rcParams.update(s)"
   ]
  },
  {
   "cell_type": "code",
   "execution_count": 4,
   "metadata": {},
   "outputs": [],
   "source": [
    "%load_ext autoreload\n",
    "%autoreload 2\n",
    "#import warnings\n",
    "#warnings.filterwarnings(\"always\")\n",
    "import numpy as np\n",
    "import matplotlib.pyplot as plt \n",
    "from mpl_toolkits.mplot3d import axes3d\n",
    "import matplotlib.cm as cm\n",
    "from IPython.display import display, Math, clear_output\n",
    "\n",
    "import sympy  #Sympy1.2 is from conda-forge: [sudo conda install -c conda-forge sympy]\n",
    "from sympy import *\n",
    "from sympy.physics.vector import ReferenceFrame, CoordinateSym\n",
    "from sympy.vector import CoordSys3D, divergence, curl\n",
    "\n",
    "import ipyvolume as ipv\n",
    "import time\n",
    "from ipywidgets import Output\n",
    "\n",
    "import helpers\n",
    "\n",
    "np.seterr(divide='ignore', invalid='ignore');"
   ]
  },
  {
   "cell_type": "markdown",
   "metadata": {},
   "source": [
    "## Symbolic Calculation of the Divergence\n",
    "### (be sure to also try this example by hand) "
   ]
  },
  {
   "cell_type": "markdown",
   "metadata": {},
   "source": [
    "**Step 1.** Initialize the coordinate system and the vector field; display the equation for the vector field. Note that the subscript **A** simply represents the coordinate system; awkward, but don't let it throw you."
   ]
  },
  {
   "cell_type": "code",
   "execution_count": 5,
   "metadata": {},
   "outputs": [
    {
     "data": {
      "text/latex": [
       "$$\\textbf{F} = (\\mathbf{{x}_{A}} \\mathbf{{y}_{A}} \\mathbf{{z}_{A}})\\mathbf{\\hat{i}_{A}} + (\\mathbf{{x}_{A}} \\mathbf{{y}_{A}} \\mathbf{{z}_{A}})\\mathbf{\\hat{j}_{A}} + (\\mathbf{{x}_{A}} \\mathbf{{y}_{A}} \\mathbf{{z}_{A}})\\mathbf{\\hat{k}_{A}}$$"
      ],
      "text/plain": [
       "<IPython.core.display.Math object>"
      ]
     },
     "metadata": {},
     "output_type": "display_data"
    }
   ],
   "source": [
    "A = CoordSys3D('A')  # initialize a 3D coordinate system \n",
    "F = A.x*A.y*A.z*(A.i + A.j + A.k)\n",
    "display(Math(r'\\textbf{F} = ' + latex(F)))"
   ]
  },
  {
   "cell_type": "markdown",
   "metadata": {},
   "source": [
    "**Step 2.** Symbolically calculate the divergence"
   ]
  },
  {
   "cell_type": "code",
   "execution_count": 6,
   "metadata": {},
   "outputs": [
    {
     "data": {
      "text/latex": [
       "$$\\nabla \\cdot \\textbf{F} = \\mathbf{{x}_{A}} \\mathbf{{y}_{A}} + \\mathbf{{x}_{A}} \\mathbf{{z}_{A}} + \\mathbf{{y}_{A}} \\mathbf{{z}_{A}}$$"
      ],
      "text/plain": [
       "<IPython.core.display.Math object>"
      ]
     },
     "metadata": {},
     "output_type": "display_data"
    }
   ],
   "source": [
    "div = divergence(F)\n",
    "display(Math(r'\\nabla \\cdot \\textbf{F} = ' + latex(div)))"
   ]
  },
  {
   "cell_type": "markdown",
   "metadata": {},
   "source": [
    "### Above we have the divergence of the vector field F  \n",
    "\n",
    "### A Few Notes:\n",
    "* The *vector field* has three vector components at each point in space (i.e. x,y,z)\n",
    "* The divergence of the vector field is a *scalar field*. At each point in space there is only a single scalar value."
   ]
  },
  {
   "cell_type": "markdown",
   "metadata": {},
   "source": [
    "## Displaying 3D Data"
   ]
  },
  {
   "cell_type": "markdown",
   "metadata": {},
   "source": [
    "First let's display a straight-forward scalar field of a box inside a box. Displaying a 3D volume is challenging. \n",
    "* To see \"inside\" a 3D scalar field there must be a notion of transparency and opacity.\n",
    "* The colormap is not obvious. For example, red is *not necessarily* the greatest value. "
   ]
  },
  {
   "cell_type": "code",
   "execution_count": 7,
   "metadata": {},
   "outputs": [
    {
     "data": {
      "application/vnd.jupyter.widget-view+json": {
       "model_id": "d09a40fe69834448ba82f83dbf233487",
       "version_major": 2,
       "version_minor": 0
      },
      "text/plain": [
       "A Jupyter Widget"
      ]
     },
     "metadata": {},
     "output_type": "display_data"
    }
   ],
   "source": [
    "V = np.zeros((128,128,128)) # our 3d array 128x128x128\n",
    "# outer box\n",
    "V[30:-30,30:-30,30:-30] = 0.75\n",
    "V[35:-35,35:-35,35:-35] = 0.0\n",
    "# inner box\n",
    "V[50:-50,50:-50,50:-50] = 0.25\n",
    "V[55:-55,55:-55,55:-55] = 0.0\n",
    "\n",
    "# corner (near 0,0,0)\n",
    "V[0:10, 0:10, 0:10] = 0.25\n",
    "# corner (near 128,128,128)\n",
    "V[-10:-1, -10:-1, -10:-1] = 0.75\n",
    "\n",
    "ipv.volshow(V, level=[0.25, 0.75], opacity=0.03, level_width=0.1, data_min=0, data_max=1)"
   ]
  },
  {
   "cell_type": "markdown",
   "metadata": {},
   "source": [
    "## Numerical Evaluation of the Divergence for Display"
   ]
  },
  {
   "cell_type": "markdown",
   "metadata": {},
   "source": [
    "**Step 3.** Create a function from the symbolic divergence (to evaluate at any x,y,z point)"
   ]
  },
  {
   "cell_type": "code",
   "execution_count": 8,
   "metadata": {
    "collapsed": true
   },
   "outputs": [],
   "source": [
    "vars = symbols('A.x A.y A.z')  # seems unnecessary but is to fix a lambdify \"bug\"\n",
    "div_func = lambdify(vars, div.subs(dict(zip([A.x, A.y, A.z], vars))), modules='numpy')"
   ]
  },
  {
   "cell_type": "markdown",
   "metadata": {},
   "source": [
    "**Step 4.** Create a field (i.e. x, y, z arrays) and evaluate the divergence over the field.\n",
    "Note: the ordering of x,y,z combined with meshgrid is [not obvious](https://github.com/maartenbreddels/ipyvolume/issues/79)"
   ]
  },
  {
   "cell_type": "code",
   "execution_count": 9,
   "metadata": {
    "collapsed": true
   },
   "outputs": [],
   "source": [
    "x = np.linspace(0, 10, 41)\n",
    "y = np.linspace(0, 10, 41)\n",
    "z = np.linspace(0, 10, 41)\n",
    "X, Y, Z = np.meshgrid(x,y,z, indexing='ij')\n",
    "divergence_data = helpers.check_lambdify_out(div_func(X, Y, Z), X, Y, Z)"
   ]
  },
  {
   "cell_type": "markdown",
   "metadata": {},
   "source": [
    "**Step 5.** Let's first check a few points of the divergence. Recall the expression we found:"
   ]
  },
  {
   "cell_type": "code",
   "execution_count": 10,
   "metadata": {},
   "outputs": [
    {
     "data": {
      "text/latex": [
       "$$\\nabla \\cdot \\textbf{F} = \\mathbf{{x}_{A}} \\mathbf{{y}_{A}} + \\mathbf{{x}_{A}} \\mathbf{{z}_{A}} + \\mathbf{{y}_{A}} \\mathbf{{z}_{A}}$$"
      ],
      "text/plain": [
       "<IPython.core.display.Math object>"
      ]
     },
     "metadata": {},
     "output_type": "display_data"
    }
   ],
   "source": [
    "display(Math(r'\\nabla \\cdot \\textbf{F} = ' + latex(div)))"
   ]
  },
  {
   "cell_type": "code",
   "execution_count": 11,
   "metadata": {},
   "outputs": [
    {
     "data": {
      "text/latex": [
       "$$\\nabla \\cdot \\textbf{F}(0,0,0) = 0.0$$"
      ],
      "text/plain": [
       "<IPython.core.display.Math object>"
      ]
     },
     "metadata": {},
     "output_type": "display_data"
    },
    {
     "data": {
      "text/latex": [
       "$$\\nabla \\cdot \\textbf{F}(0,40,40) = 100.0$$"
      ],
      "text/plain": [
       "<IPython.core.display.Math object>"
      ]
     },
     "metadata": {},
     "output_type": "display_data"
    },
    {
     "data": {
      "text/latex": [
       "$$\\nabla \\cdot \\textbf{F}(40,0,40) = 100.0$$"
      ],
      "text/plain": [
       "<IPython.core.display.Math object>"
      ]
     },
     "metadata": {},
     "output_type": "display_data"
    },
    {
     "data": {
      "text/latex": [
       "$$\\nabla \\cdot \\textbf{F}(40,40,0) = 100.0$$"
      ],
      "text/plain": [
       "<IPython.core.display.Math object>"
      ]
     },
     "metadata": {},
     "output_type": "display_data"
    },
    {
     "data": {
      "text/latex": [
       "$$\\nabla \\cdot \\textbf{F}(40,40,40) = 300.0$$"
      ],
      "text/plain": [
       "<IPython.core.display.Math object>"
      ]
     },
     "metadata": {},
     "output_type": "display_data"
    }
   ],
   "source": [
    "def my_func_eval(func, indx_x, indx_y, indx_z):\n",
    "    display(Math(r'\\nabla \\cdot \\textbf{F}' + '({},{},{}) = {}'.format(indx_x, indx_y, indx_z, func[indx_x, indx_y,indx_z])))\n",
    "    return func[indx_x,indx_y,indx_z]\n",
    "\n",
    "x = my_func_eval(divergence_data, 0, 0, 0);\n",
    "x = my_func_eval(divergence_data, 0, 40, 40);\n",
    "x = my_func_eval(divergence_data, 40, 0, 40);\n",
    "x = my_func_eval(divergence_data, 40, 40, 0);\n",
    "x = my_func_eval(divergence_data, 40, 40, 40);"
   ]
  },
  {
   "cell_type": "markdown",
   "metadata": {},
   "source": [
    "**Step 5.** Display the divergence along the xy plane (z=0)"
   ]
  },
  {
   "cell_type": "code",
   "execution_count": 19,
   "metadata": {},
   "outputs": [
    {
     "data": {
      "image/png": "[encoded data removed]",
      "text/plain": [
       "<matplotlib.figure.Figure at 0x1117785f8>"
      ]
     },
     "metadata": {},
     "output_type": "display_data"
    }
   ],
   "source": [
    "x = np.linspace(0, 10, 41)\n",
    "y = np.linspace(0, 10, 41)\n",
    "z = np.linspace(0, 0, 41)\n",
    "X, Y, Z = np.meshgrid(x,y,z, indexing='ij')\n",
    "divergence_data = helpers.check_lambdify_out(div_func(X, Y, Z), X, Y, Z)\n",
    "\n",
    "plt.figure()\n",
    "plt.imshow(divergence_data[:,:,0])\n",
    "plt.colorbar()\n",
    "plt.show()"
   ]
  },
  {
   "cell_type": "markdown",
   "metadata": {},
   "source": [
    "**Step 6.** Now display the divergence in 3D "
   ]
  },
  {
   "cell_type": "code",
   "execution_count": 13,
   "metadata": {},
   "outputs": [
    {
     "data": {
      "application/vnd.jupyter.widget-view+json": {
       "model_id": "2b94cc078988460cbb7f076bba960d7c",
       "version_major": 2,
       "version_minor": 0
      },
      "text/plain": [
       "A Jupyter Widget"
      ]
     },
     "metadata": {},
     "output_type": "display_data"
    }
   ],
   "source": [
    "# plot a 3d figure \n",
    "ipv.figure()\n",
    "ipv.volshow(divergence_data, opacity=0.03, level_width=20)\n",
    "# ipv.view(azimuth = 115, elevation = 90)\n",
    "ipv.show()"
   ]
  },
  {
   "cell_type": "markdown",
   "metadata": {},
   "source": [
    "### Let's Go Back to the Vector Field and Display as a Quiver Plot (a quiver plot shows magnitude and direction at each point in a field)"
   ]
  },
  {
   "cell_type": "markdown",
   "metadata": {},
   "source": [
    "Recall the vector field:"
   ]
  },
  {
   "cell_type": "code",
   "execution_count": 14,
   "metadata": {},
   "outputs": [
    {
     "data": {
      "text/latex": [
       "$$\\textbf{F} = (\\mathbf{{x}_{A}} \\mathbf{{y}_{A}} \\mathbf{{z}_{A}})\\mathbf{\\hat{i}_{A}} + (\\mathbf{{x}_{A}} \\mathbf{{y}_{A}} \\mathbf{{z}_{A}})\\mathbf{\\hat{j}_{A}} + (\\mathbf{{x}_{A}} \\mathbf{{y}_{A}} \\mathbf{{z}_{A}})\\mathbf{\\hat{k}_{A}}$$"
      ],
      "text/plain": [
       "<IPython.core.display.Math object>"
      ]
     },
     "metadata": {},
     "output_type": "display_data"
    }
   ],
   "source": [
    "display(Math(r'\\textbf{F} = ' + latex(F)))"
   ]
  },
  {
   "cell_type": "code",
   "execution_count": 15,
   "metadata": {},
   "outputs": [
    {
     "data": {
      "application/vnd.jupyter.widget-view+json": {
       "model_id": "8a208b8b98184623952c9c454b6c988a",
       "version_major": 2,
       "version_minor": 0
      },
      "text/plain": [
       "A Jupyter Widget"
      ]
     },
     "metadata": {},
     "output_type": "display_data"
    }
   ],
   "source": [
    "x = np.linspace(-10, 10, 10)\n",
    "y = np.linspace(-10, 10, 10)\n",
    "z = np.linspace(-10, 10, 10)\n",
    "X, Y, Z = np.meshgrid(x,y,z, indexing='ij');\n",
    " \n",
    "u,v,w = helpers.evaluate_field_components(A, F, X,Y,Z);\n",
    "\n",
    "ipv.figure()\n",
    "quiver = ipv.quickquiver(X.flatten(), Y.flatten(), Z.flatten(), u.flatten(), v.flatten(), w.flatten(), size=2);\n",
    "ipv.show()"
   ]
  },
  {
   "cell_type": "markdown",
   "metadata": {},
   "source": [
    "## Sympy also supports spherical or cylindrical coordinates "
   ]
  },
  {
   "cell_type": "markdown",
   "metadata": {},
   "source": [
    "## Try an example in spherical coordinates"
   ]
  },
  {
   "cell_type": "code",
   "execution_count": 16,
   "metadata": {
    "collapsed": true
   },
   "outputs": [],
   "source": [
    "A = CoordSys3D('A', transformation='spherical') \n",
    "r, theta, phi, a, b, c = symbols('r \\theta phi a b c')\n",
    "\n",
    "F = a*A.r**2*A.i + c*cos(A.theta)/A.r*A.j + b * A.k \n",
    "div = divergence(F)"
   ]
  },
  {
   "cell_type": "code",
   "execution_count": 17,
   "metadata": {},
   "outputs": [
    {
     "data": {
      "text/latex": [
       "$$\\textbf{F} = (\\mathbf{{r}_{A}}^{2} a)\\mathbf{\\hat{i}_{A}} + (\\frac{c \\cos{\\left (\\mathbf{{theta}_{A}} \\right )}}{\\mathbf{{r}_{A}}})\\mathbf{\\hat{j}_{A}} + (b)\\mathbf{\\hat{k}_{A}}$$"
      ],
      "text/plain": [
       "<IPython.core.display.Math object>"
      ]
     },
     "metadata": {},
     "output_type": "display_data"
    }
   ],
   "source": [
    "display(Math(r'\\textbf{F} = ' + latex(F)))"
   ]
  },
  {
   "cell_type": "code",
   "execution_count": 18,
   "metadata": {},
   "outputs": [
    {
     "data": {
      "text/latex": [
       "$$\\nabla \\cdot \\textbf{F} = 4 \\mathbf{{r}_{A}} a + \\frac{- c \\sin^{2}{\\left (\\mathbf{{theta}_{A}} \\right )} + c \\cos^{2}{\\left (\\mathbf{{theta}_{A}} \\right )}}{\\mathbf{{r}_{A}}^{2} \\sin{\\left (\\mathbf{{theta}_{A}} \\right )}}$$"
      ],
      "text/plain": [
       "<IPython.core.display.Math object>"
      ]
     },
     "metadata": {},
     "output_type": "display_data"
    }
   ],
   "source": [
    "display(Math(r'\\nabla \\cdot \\textbf{F} = ' + latex(div)))"
   ]
  },
  {
   "cell_type": "markdown",
   "metadata": {},
   "source": [
    "## Check this with a hand calculation of the divergence "
   ]
  }
 ],
 "metadata": {
  "kernelspec": {
   "display_name": "Python 3",
   "language": "python",
   "name": "python3"
  },
  "language_info": {
   "codemirror_mode": {
    "name": "ipython",
    "version": 3
   },
   "file_extension": ".py",
   "mimetype": "text/x-python",
   "name": "python",
   "nbconvert_exporter": "python",
   "pygments_lexer": "ipython3",
   "version": "3.6.3"
  }
 },
 "nbformat": 4,
 "nbformat_minor": 2
}
