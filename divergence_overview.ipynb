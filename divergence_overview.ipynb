{
 "cells": [
  {
   "cell_type": "code",
   "execution_count": 1,
   "metadata": {},
   "outputs": [],
   "source": [
    "%matplotlib widget"
   ]
  },
  {
   "cell_type": "markdown",
   "metadata": {},
   "source": [
    "## Python Package Imports"
   ]
  },
  {
   "cell_type": "code",
   "execution_count": 2,
   "metadata": {},
   "outputs": [],
   "source": [
    "%load_ext autoreload\n",
    "%autoreload 2\n",
    "import numpy as np\n",
    "import matplotlib.pyplot as plt \n",
    "from mpl_toolkits.mplot3d import axes3d\n",
    "import matplotlib.cm as cm\n",
    "from IPython.display import display, Math, clear_output\n",
    "\n",
    "import sympy  #Sympy1.2 is from conda-forge: [sudo conda install -c conda-forge sympy]\n",
    "from sympy import *\n",
    "from sympy.physics.vector import ReferenceFrame, CoordinateSym\n",
    "from sympy.vector import CoordSys3D, divergence, curl\n",
    "\n",
    "import ipyvolume as ipv\n",
    "import time\n",
    "from ipywidgets import Output\n",
    "\n",
    "import helpers\n",
    "\n",
    "np.seterr(divide='ignore', invalid='ignore');"
   ]
  },
  {
   "cell_type": "markdown",
   "metadata": {},
   "source": [
    "### Check versions of important packages \n",
    "(Need Sympy Version >=1.2 from conda-forge)"
   ]
  },
  {
   "cell_type": "code",
   "execution_count": 3,
   "metadata": {},
   "outputs": [
    {
     "name": "stdout",
     "output_type": "stream",
     "text": [
      "Ipyvolume version = 0.4.6\n",
      "Sympy version = 1.2\n",
      "IPyVolume version = 0.4.6\n"
     ]
    }
   ],
   "source": [
    "print('Ipyvolume version = {}'.format(ipv.__version__))\n",
    "print('Sympy version = {}'.format(sympy.__version__))\n",
    "print('IPyVolume version = {}'.format(ipv.__version__))"
   ]
  },
  {
   "cell_type": "markdown",
   "metadata": {},
   "source": [
    "## Let's check that plotting and the plotting widget are correctly installed"
   ]
  },
  {
   "cell_type": "markdown",
   "metadata": {},
   "source": [
    "The plot may be hidden with only a \"power\" button in the upper-right. Click this button to toggle the display of the plot. Note the widgets below the plot that allow you to: 1) 'home' the view; 2) toggle the view forward or backwards; 3) pan the axes; 4) zoom to a rectangle and; 5) save/download the figure."
   ]
  },
  {
   "cell_type": "code",
   "execution_count": 4,
   "metadata": {},
   "outputs": [
    {
     "data": {
      "image/png": "[encoded data removed]",
      "text/plain": [
       "<matplotlib.figure.Figure at 0x1084cf048>"
      ]
     },
     "metadata": {},
     "output_type": "display_data"
    }
   ],
   "source": [
    "init_printing()\n",
    "plt.figure()\n",
    "plt.plot([1,2,3])\n",
    "plt.show()"
   ]
  },
  {
   "cell_type": "markdown",
   "metadata": {},
   "source": [
    "## Sympy is a Python module for symbolic mathematics. \n",
    "\n",
    "#### The basics of vectors and fields in Sympy are:\n",
    "1. Unit vectors are indicated by a . (For example, R.x is the unit vector in the x direction). \n",
    "2. Scalars are indicated by [] (For example, R[0] is x)\n",
    "\n",
    "#### Sympy functions and capabilities to be aware of:\n",
    "From the [**Sympy.vector**](http://docs.sympy.org/latest/modules/vector/index.html) module: \n",
    "\n",
    "Vector calculus examples specific to electrodynamics include:\n",
    "\n",
    "1. [divergence](http://docs.sympy.org/latest/modules/vector/api/vectorfunctions.html#divergence)\n",
    "2. [curl](http://docs.sympy.org/latest/modules/vector/api/vectorfunctions.html#curl)\n",
    "3. [gradient](http://docs.sympy.org/latest/modules/vector/api/vectorfunctions.html#gradient)\n",
    "4. [scalar_potential](http://docs.sympy.org/latest/modules/vector/api/vectorfunctions.html#scalar_potential)\n",
    "5. [scalar_potential_difference](http://docs.sympy.org/latest/modules/vector/api/vectorfunctions.html#potential_difference)\n",
    "6. [is_conservative](http://docs.sympy.org/latest/modules/vector/api/vectorfunctions.html#is_conservative)\n",
    "\n",
    "#### Sympy can evaluate integrals and derivates symbolically and numerically:\n",
    "\n",
    "1. [integrals](http://docs.sympy.org/latest/tutorial/calculus.html?highlight=derivatives#integrals)\n",
    "2. [derivatives](http://docs.sympy.org/latest/tutorial/calculus.html?highlight=derivatives#derivatives)\n",
    "\n",
    "#### Sympy supports non-Cartesian coordinate systems:\n",
    "1. The coordinate system can be represented in non-Cartesian systems, such as spherical or cylindrical:  \n",
    "`A = CoordSys3D('A', transformation='spherical')  # (transformation parameter requires Sympy 1.2)`\n",
    "[coordinate transformations](http://docs.sympy.org/latest/modules/vector/coordsys.html#transforming-new-system)"
   ]
  },
  {
   "cell_type": "markdown",
   "metadata": {},
   "source": [
    "## Symbolic Calculation of the Divergence\n",
    "### Be sure to try these steps by hand "
   ]
  },
  {
   "cell_type": "markdown",
   "metadata": {},
   "source": [
    "**Step 1.** Initialize the coordinate system and the vector field; display the equation for the vector field. Note that the subscript **A** simply represents the coordinate system; awkward, but don't let it throw you."
   ]
  },
  {
   "cell_type": "code",
   "execution_count": 5,
   "metadata": {},
   "outputs": [
    {
     "data": {
      "text/latex": [
       "$$\\textbf{F} = (\\mathbf{{x}_{A}} \\mathbf{{y}_{A}} \\mathbf{{z}_{A}})\\mathbf{\\hat{i}_{A}} + (\\mathbf{{x}_{A}} \\mathbf{{y}_{A}} \\mathbf{{z}_{A}})\\mathbf{\\hat{j}_{A}} + (\\mathbf{{x}_{A}} \\mathbf{{y}_{A}} \\mathbf{{z}_{A}})\\mathbf{\\hat{k}_{A}}$$"
      ],
      "text/plain": [
       "<IPython.core.display.Math object>"
      ]
     },
     "metadata": {},
     "output_type": "display_data"
    }
   ],
   "source": [
    "A = CoordSys3D('A')  # initialize a 3D coordinate system \n",
    "F = A.x*A.y*A.z*(A.i + A.j + A.k)\n",
    "display(Math(r'\\textbf{F} = ' + latex(F)))"
   ]
  },
  {
   "cell_type": "markdown",
   "metadata": {},
   "source": [
    "**Step 2.** Symbolically calculate the divergence"
   ]
  },
  {
   "cell_type": "code",
   "execution_count": 6,
   "metadata": {},
   "outputs": [
    {
     "name": "stdout",
     "output_type": "stream",
     "text": [
      "Divergence:\n"
     ]
    },
    {
     "data": {
      "text/latex": [
       "$$\\nabla \\cdot \\textbf{F} = \\mathbf{{x}_{A}} \\mathbf{{y}_{A}} + \\mathbf{{x}_{A}} \\mathbf{{z}_{A}} + \\mathbf{{y}_{A}} \\mathbf{{z}_{A}}$$"
      ],
      "text/plain": [
       "<IPython.core.display.Math object>"
      ]
     },
     "metadata": {},
     "output_type": "display_data"
    }
   ],
   "source": [
    "div = divergence(F)\n",
    "print('Divergence:')\n",
    "display(Math(r'\\nabla \\cdot \\textbf{F} = ' + latex(div)))"
   ]
  },
  {
   "cell_type": "markdown",
   "metadata": {},
   "source": [
    "### Above we have the divergence of the vector field F  \n",
    "\n",
    "### A Few Notes:\n",
    "* The *vector field* has three vector components at each point in space (i.e. x,y,z)\n",
    "* The divergence of the vector field is a *scalar field*. At each point in space there is only a single scalar value."
   ]
  },
  {
   "cell_type": "markdown",
   "metadata": {},
   "source": [
    "## Numerical Evaluation of the Divergence for Display"
   ]
  },
  {
   "cell_type": "markdown",
   "metadata": {},
   "source": [
    "**Step 3.** Create a function from the symbolic divergence (to evaluate at any x,y,z point)"
   ]
  },
  {
   "cell_type": "code",
   "execution_count": 7,
   "metadata": {},
   "outputs": [],
   "source": [
    "vars = symbols('A.x A.y A.z')  # this is to fix a lambdify \"bug\"\n",
    "div_func = lambdify(vars, div.subs(dict(zip([A.x, A.y, A.z], vars))), modules='numpy')"
   ]
  },
  {
   "cell_type": "markdown",
   "metadata": {},
   "source": [
    "**Step 4.** Create a field (i.e. x, y, z arrays) and evaluate the divergence over the field.\n",
    "Note: the ordering of x,y,z combined with meshgrid is [not obvious](https://github.com/maartenbreddels/ipyvolume/issues/79)"
   ]
  },
  {
   "cell_type": "code",
   "execution_count": 8,
   "metadata": {},
   "outputs": [],
   "source": [
    "x = np.linspace(0, 10, 41)\n",
    "y = np.linspace(0, 10, 41)\n",
    "z = np.linspace(0, 10, 41)\n",
    "X, Y, Z = np.meshgrid(x,y,z, indexing='ij')\n",
    "divergence_data = helpers.check_lambdify_out(div_func(X, Y, Z), X, Y, Z)"
   ]
  },
  {
   "cell_type": "markdown",
   "metadata": {},
   "source": [
    "**Step 5.** First let's display a straight-forward scalar field. Displaying a 3D volume is challenging. \n",
    "* To see \"inside\" a 3D scalar field there must be a notion of transparency and opacity.\n",
    "* The colormap is not obvious. For example, red is *not necessarily* the greatest value. "
   ]
  },
  {
   "cell_type": "code",
   "execution_count": 9,
   "metadata": {},
   "outputs": [
    {
     "data": {
      "application/vnd.jupyter.widget-view+json": {
       "model_id": "de0ad555132842b58c3522c0fc7d26ca",
       "version_major": 2,
       "version_minor": 0
      },
      "text/plain": [
       "A Jupyter Widget"
      ]
     },
     "metadata": {},
     "output_type": "display_data"
    }
   ],
   "source": [
    "V = np.zeros((128,128,128)) # our 3d array 128x128x128\n",
    "# outer box\n",
    "V[30:-30,30:-30,30:-30] = 0.75\n",
    "V[35:-35,35:-35,35:-35] = 0.0\n",
    "# inner box\n",
    "V[50:-50,50:-50,50:-50] = 0.25\n",
    "V[55:-55,55:-55,55:-55] = 0.0\n",
    "\n",
    "# corner (near 0,0,0)\n",
    "V[0:10, 0:10, 0:10] = 0.25\n",
    "# corner (near 128,128,128)\n",
    "V[-10:-1, -10:-1, -10:-1] = 0.75\n",
    "\n",
    "ipv.volshow(V, level=[0.25, 0.75], opacity=0.03, level_width=0.1, data_min=0, data_max=1)"
   ]
  },
  {
   "cell_type": "markdown",
   "metadata": {},
   "source": [
    "**Step 6.** Back to the divergence. Let's check a few points. Recall the expression:"
   ]
  },
  {
   "cell_type": "code",
   "execution_count": 10,
   "metadata": {},
   "outputs": [
    {
     "data": {
      "text/latex": [
       "$$\\nabla \\cdot \\textbf{F} = \\mathbf{{x}_{A}} \\mathbf{{y}_{A}} + \\mathbf{{x}_{A}} \\mathbf{{z}_{A}} + \\mathbf{{y}_{A}} \\mathbf{{z}_{A}}$$"
      ],
      "text/plain": [
       "<IPython.core.display.Math object>"
      ]
     },
     "metadata": {},
     "output_type": "display_data"
    }
   ],
   "source": [
    "display(Math(r'\\nabla \\cdot \\textbf{F} = ' + latex(div)))"
   ]
  },
  {
   "cell_type": "code",
   "execution_count": 11,
   "metadata": {},
   "outputs": [
    {
     "name": "stdout",
     "output_type": "stream",
     "text": [
      "The size of this array is: (41, 41, 41)\n"
     ]
    },
    {
     "data": {
      "text/latex": [
       "$$\\nabla \\cdot \\textbf{F}(0,0,0) = 0.0$$"
      ],
      "text/plain": [
       "<IPython.core.display.Math object>"
      ]
     },
     "metadata": {},
     "output_type": "display_data"
    },
    {
     "data": {
      "text/latex": [
       "$$\\nabla \\cdot \\textbf{F}(0,40,40) = 100.0$$"
      ],
      "text/plain": [
       "<IPython.core.display.Math object>"
      ]
     },
     "metadata": {},
     "output_type": "display_data"
    },
    {
     "data": {
      "text/latex": [
       "$$\\nabla \\cdot \\textbf{F}(40,0,40) = 100.0$$"
      ],
      "text/plain": [
       "<IPython.core.display.Math object>"
      ]
     },
     "metadata": {},
     "output_type": "display_data"
    },
    {
     "data": {
      "text/latex": [
       "$$\\nabla \\cdot \\textbf{F}(40,40,0) = 100.0$$"
      ],
      "text/plain": [
       "<IPython.core.display.Math object>"
      ]
     },
     "metadata": {},
     "output_type": "display_data"
    },
    {
     "data": {
      "text/latex": [
       "$$\\nabla \\cdot \\textbf{F}(40,40,40) = 300.0$$"
      ],
      "text/plain": [
       "<IPython.core.display.Math object>"
      ]
     },
     "metadata": {},
     "output_type": "display_data"
    }
   ],
   "source": [
    "print('The size of this array is: {}'.format(np.shape(divergence_data)))\n",
    "\n",
    "def my_func_eval(func,indx_x,indx_y,indx_z):\n",
    "    display(Math(r'\\nabla \\cdot \\textbf{F}' + '({},{},{}) = {}'.format(indx_x, indx_y, indx_z, func[indx_x, indx_y,indx_z])))\n",
    "    return func[indx_x,indx_y,indx_z]\n",
    "\n",
    "x = my_func_eval(divergence_data, 0, 0, 0);\n",
    "x = my_func_eval(divergence_data, 0, 40, 40);\n",
    "x = my_func_eval(divergence_data, 40, 0, 40);\n",
    "x = my_func_eval(divergence_data, 40, 40, 0);\n",
    "x = my_func_eval(divergence_data, 40, 40, 40);"
   ]
  },
  {
   "cell_type": "markdown",
   "metadata": {},
   "source": [
    "**Step 7.** A now display the divergence"
   ]
  },
  {
   "cell_type": "code",
   "execution_count": 12,
   "metadata": {},
   "outputs": [
    {
     "data": {
      "application/vnd.jupyter.widget-view+json": {
       "model_id": "134af30a5b1042d59b1a77fee2864179",
       "version_major": 2,
       "version_minor": 0
      },
      "text/plain": [
       "A Jupyter Widget"
      ]
     },
     "metadata": {},
     "output_type": "display_data"
    }
   ],
   "source": [
    "# plot a 3d figure \n",
    "ipv.figure()\n",
    "ipv.volshow(divergence_data, opacity=0.03, level_width=20)\n",
    "# ipv.view(azimuth = 115, elevation = 90)\n",
    "ipv.show()"
   ]
  },
  {
   "cell_type": "markdown",
   "metadata": {},
   "source": [
    "### We can also evaluate the function at specific points"
   ]
  },
  {
   "cell_type": "code",
   "execution_count": 13,
   "metadata": {},
   "outputs": [
    {
     "name": "stdout",
     "output_type": "stream",
     "text": [
      "  Function evaluated at point 0,0,0 = 0\n",
      "  Function evaluated at point 10,10,10 = 300\n"
     ]
    }
   ],
   "source": [
    "def my_func_eval(func, x,y,z):\n",
    "    print('  Function evaluated at point {},{},{} = {}'.format(x,y,z,func(x,y,z)))\n",
    "    return func(x,y,z)\n",
    "\n",
    "my_func_eval(div_func, 0,0,0);\n",
    "my_func_eval(div_func, 10,10,10);"
   ]
  },
  {
   "cell_type": "code",
   "execution_count": 14,
   "metadata": {},
   "outputs": [
    {
     "name": "stdout",
     "output_type": "stream",
     "text": [
      "A.i\n",
      "A.j\n",
      "A.k\n"
     ]
    },
    {
     "data": {
      "application/vnd.jupyter.widget-view+json": {
       "model_id": "c1943f2334704164842718f8dd9ac855",
       "version_major": 2,
       "version_minor": 0
      },
      "text/plain": [
       "A Jupyter Widget"
      ]
     },
     "metadata": {},
     "output_type": "display_data"
    }
   ],
   "source": [
    "x = np.linspace(-10, 10, 10)\n",
    "y = np.linspace(-10, 10, 10)\n",
    "z = np.linspace(-10, 10, 10)\n",
    "X, Y, Z = np.meshgrid(x,y,z, indexing='ij');\n",
    " \n",
    "u,v,w = helpers.evaluate_field_components(A, F, X,Y,Z);\n",
    "\n",
    "ipv.figure()\n",
    "quiver = ipv.quickquiver(X.flatten(), Y.flatten(), Z.flatten(), u.flatten(), v.flatten(), w.flatten(), size=2);\n",
    "ipv.show()"
   ]
  },
  {
   "cell_type": "markdown",
   "metadata": {},
   "source": [
    "## Symbolic Calculation of the Gradient "
   ]
  },
  {
   "cell_type": "code",
   "execution_count": 15,
   "metadata": {
    "collapsed": true
   },
   "outputs": [
    {
     "name": "stdout",
     "output_type": "stream",
     "text": [
      "Gradient of: x**2\n",
      "[2*x, 0, 0]\n",
      "(3,)\n",
      "(41, 41, 41), (41, 41, 41), (41, 41, 41)\n",
      "(41, 41, 41)\n",
      "[2, 0, 0]\n",
      "2\n"
     ]
    },
    {
     "data": {
      "application/vnd.jupyter.widget-view+json": {
       "model_id": "98d7ec6f8d0143aa812286989d72944c",
       "version_major": 2,
       "version_minor": 0
      },
      "text/plain": [
       "A Jupyter Widget"
      ]
     },
     "metadata": {},
     "output_type": "display_data"
    }
   ],
   "source": [
    "#define symbolic vars, function\n",
    "x,y,z =sympy.symbols('x y z')\n",
    "fun = x**2\n",
    "\n",
    "# evaluate the gradient symbolically\n",
    "gradfun = [sympy.diff(fun, var) for var in (x,y,z)]\n",
    "print('Gradient of: {}'.format(fun))\n",
    "print(gradfun)\n",
    "print(np.shape(gradfun))\n",
    "\n",
    "#turn into a bivariate lambda for numpy\n",
    "numgradfun = sympy.lambdify([x,y,z], gradfun)\n",
    "\n",
    "x = np.linspace(-10, 10, 41)\n",
    "y = np.linspace(-10, 10, 41)\n",
    "z = np.linspace(-10, 10, 41)\n",
    "X, Y, Z = np.meshgrid(x,y,z, indexing='ij')\n",
    "\n",
    "gradient_eval = sum(numgradfun(X, Y, Z))\n",
    "\n",
    "print('{}, {}, {}'.format(np.shape(X),np.shape(Y),np.shape(Z)))\n",
    "print(np.shape(gradient_eval))\n",
    "print(numgradfun(1,1,2))\n",
    "print(sum(numgradfun(1,1,2)))\n",
    "ipv.figure()\n",
    "ipv.volshow(gradient_eval.T, opacity=0.03, level_width=0.1, data_min=0, data_max=1)\n",
    "ipv.view(azimuth = 115, elevation = 90)\n",
    "ipv.show()"
   ]
  },
  {
   "cell_type": "code",
   "execution_count": 16,
   "metadata": {
    "collapsed": true
   },
   "outputs": [],
   "source": [
    "### In Spherical coords? https://github.com/sympy/sympy/blob/master/examples/advanced/curvilinear_coordinates.py\n",
    "## Or: http://docs.sympy.org/latest/modules/vector/coordsys.html?highlight=coordsys3d"
   ]
  },
  {
   "cell_type": "code",
   "execution_count": 17,
   "metadata": {},
   "outputs": [
    {
     "name": "stdout",
     "output_type": "stream",
     "text": [
      "                 2                 2         \n",
      "          - c⋅sin (A_theta) + c⋅cos (A_theta)\n",
      "4⋅A_r⋅a + ───────────────────────────────────\n",
      "                      2                      \n",
      "                   A_r ⋅sin(A_theta)         \n"
     ]
    },
    {
     "data": {
      "text/latex": [
       "$$4 \\mathbf{{r}_{A}} a + \\frac{- c \\sin^{2}{\\left (\\mathbf{{theta}_{A}} \\right )} + c \\cos^{2}{\\left (\\mathbf{{theta}_{A}} \\right )}}{\\mathbf{{r}_{A}}^{2} \\sin{\\left (\\mathbf{{theta}_{A}} \\right )}}$$"
      ],
      "text/plain": [
       "<IPython.core.display.Math object>"
      ]
     },
     "metadata": {},
     "output_type": "display_data"
    }
   ],
   "source": [
    "A = CoordSys3D('A', transformation='spherical')  # the transformation parameter requires Sympy 1.2 \n",
    "r, theta, phi, a, b, c = symbols('r theta phi a b c')\n",
    "\n",
    "vec_field = a*A.r**2*A.i + c*cos(A.theta)/A.r*A.j + b * A.k \n",
    "div = divergence(vec_field)\n",
    "pprint(div)\n",
    "display(Math(r'{}'.format(latex(div))))"
   ]
  },
  {
   "cell_type": "code",
   "execution_count": 18,
   "metadata": {},
   "outputs": [
    {
     "data": {
      "text/latex": [
       "$$J = \\left[\\begin{matrix}\\sin{\\left (\\theta \\right )} \\cos{\\left (\\phi \\right )} & \\rho \\cos{\\left (\\phi \\right )} \\cos{\\left (\\theta \\right )} & - \\rho \\sin{\\left (\\phi \\right )} \\sin{\\left (\\theta \\right )}\\\\\\sin{\\left (\\phi \\right )} \\sin{\\left (\\theta \\right )} & \\rho \\sin{\\left (\\phi \\right )} \\cos{\\left (\\theta \\right )} & \\rho \\sin{\\left (\\theta \\right )} \\cos{\\left (\\phi \\right )}\\\\\\cos{\\left (\\theta \\right )} & - \\rho \\sin{\\left (\\theta \\right )} & 0\\end{matrix}\\right]$$"
      ],
      "text/plain": [
       "<IPython.core.display.Math object>"
      ]
     },
     "metadata": {},
     "output_type": "display_data"
    },
    {
     "data": {
      "text/latex": [
       "$$inv(J) = \\left[\\begin{matrix}\\sin{\\left (\\theta \\right )} \\cos{\\left (\\phi \\right )} & \\rho \\cos{\\left (\\phi \\right )} \\cos{\\left (\\theta \\right )} & - \\rho \\sin{\\left (\\phi \\right )} \\sin{\\left (\\theta \\right )}\\\\\\sin{\\left (\\phi \\right )} \\sin{\\left (\\theta \\right )} & \\rho \\sin{\\left (\\phi \\right )} \\cos{\\left (\\theta \\right )} & \\rho \\sin{\\left (\\theta \\right )} \\cos{\\left (\\phi \\right )}\\\\\\cos{\\left (\\theta \\right )} & - \\rho \\sin{\\left (\\theta \\right )} & 0\\end{matrix}\\right]$$"
      ],
      "text/plain": [
       "<IPython.core.display.Math object>"
      ]
     },
     "metadata": {},
     "output_type": "display_data"
    }
   ],
   "source": [
    "var(\"rho theta phi\")\n",
    "x_hat = Matrix([\n",
    "    rho * sin(theta) * cos(phi),\n",
    "    rho * sin(theta) * sin(phi),\n",
    "    rho * cos(theta)])\n",
    "x = Matrix([rho, theta, phi])\n",
    "\n",
    "M = zeros(3, 3)\n",
    "for i in range(3):\n",
    "    for j in range(3):\n",
    "        M[i, j] = x_hat[i].diff(x[j])\n",
    "\n",
    "N = M.inv(method=\"ADJ\")\n",
    "one = sin(phi)**2*sin(theta)**2 - cos(phi)**2*cos(theta)**2 + \\\n",
    "        cos(phi)**2 + cos(theta)**2\n",
    "one_simple = one.subs(sin(phi)**2, 1-cos(phi)**2).expand().simplify()\n",
    "N.simplify()\n",
    "# one_simple is equal to 1, but simplify() can't do this automatically yet:\n",
    "N = N.subs(one, one_simple)\n",
    "\n",
    "display(Math(r'J = {}'.format(latex(M))))\n",
    "display(Math(r'inv(J) = {}'.format(latex(M))))"
   ]
  },
  {
   "cell_type": "markdown",
   "metadata": {},
   "source": [
    "$$\n",
    "a_1 = b_1 + c_1 \\\\\n",
    "a_2 = b_2 + c_2 + d_2\n",
    "$$"
   ]
  },
  {
   "cell_type": "markdown",
   "metadata": {},
   "source": [
    "## Let's calculate the divergence of a function using sympy and visualize the result"
   ]
  },
  {
   "cell_type": "code",
   "execution_count": 19,
   "metadata": {},
   "outputs": [],
   "source": [
    "# import numpy as np\n",
    "# import matplotlib.pyplot as plt\n",
    "\n",
    "# X,Y=np.meshgrid(np.arange(-10,11),np.arange(-10,11))\n",
    "# graddat=numgradfun(X,Y)\n",
    "\n",
    "# plt.quiver(X,Y,graddat[0],graddat[1])\n",
    "# plt.show()"
   ]
  },
  {
   "cell_type": "code",
   "execution_count": 20,
   "metadata": {},
   "outputs": [],
   "source": [
    "# R = ReferenceFrame('R')\n",
    "# x,y,z = sympy.symbols('x y z')\n",
    "\n",
    "# F = R[1]**2 * R[2] * R.x - R[0]*R[1] * R.y + R[2]**2 * R.z\n",
    "# G = curl(F)  \n",
    "\n",
    "# #turn into a bivariate lambda for numpy\n",
    "# curl_fun = sympy.lambdify([x, y, z], G)\n",
    "\n",
    "# fig = plt.figure()\n",
    "# ax = fig.gca(projection='3d')\n",
    "\n",
    "# X,Y,Z = np.meshgrid(np.arange(-0.8, 1, 0.2),\n",
    "#                       np.arange(-0.8, 1, 0.2),\n",
    "#                       np.arange(-0.8, 1, 0.8))\n",
    "# curl_eval = numgradfun(X, Y, Z)\n",
    "\n",
    "# ax.quiver(x, y, z, curl_eval[0], curl_eval[1], curl_eval[2], length=0.1)\n",
    "\n",
    "# plt.show()"
   ]
  },
  {
   "cell_type": "markdown",
   "metadata": {},
   "source": [
    "## Here we demonstrate a surface (or mesh or wireframe) plot. \n",
    "### The input data to a 3D surface plot is 3 vectors (i.e. x,y,z). These vectors define a surface; the surface is not a vector field, nor is it a scalar value defined at all points in space. "
   ]
  },
  {
   "cell_type": "code",
   "execution_count": 21,
   "metadata": {
    "collapsed": true
   },
   "outputs": [
    {
     "data": {
      "application/vnd.jupyter.widget-view+json": {
       "model_id": "39cf50ba243d425e88f1b37def2478f7",
       "version_major": 2,
       "version_minor": 0
      },
      "text/plain": [
       "A Jupyter Widget"
      ]
     },
     "metadata": {},
     "output_type": "display_data"
    }
   ],
   "source": [
    "# Create the data.\n",
    "dphi, dtheta = np.pi/250.0, pi/250.0\n",
    "[phi,theta] = np.mgrid[0:np.pi+dphi*1.5:dphi,0:2*np.pi+dtheta*1.5:dtheta]\n",
    "m0 = 4; m1 = 3; m2 = 2; m3 = 3; m4 = 6; m5 = 2; m6 = 6; m7 = 4;\n",
    "r = np.sin(m0*phi)**m1 + np.cos(m2*phi)**m3 + np.sin(m4*theta)**m5 + np.cos(m6*theta)**m7\n",
    "x = r*np.sin(phi)*np.cos(theta)\n",
    "y = r*np.cos(phi)\n",
    "z = r*np.sin(phi)*np.sin(theta)\n",
    "\n",
    "# And surface/mesh plots, showing surfaces or wireframes.\n",
    "ipv.clear()\n",
    "ipv.figure()\n",
    "ipv.plot_mesh(x, y, z, wireframe=False)\n",
    "ipv.squarelim()\n",
    "ipv.show()"
   ]
  },
  {
   "cell_type": "markdown",
   "metadata": {},
   "source": [
    "## Here we demonstrate a quiver plot, which shows a vector at each position\n",
    "### The input data to a 3D quiver plot is: \n",
    "1. a sequence of three vectors which define the position of each point **and** \n",
    "2. a sequence of three vectors which define the magnitude and direction at each point."
   ]
  },
  {
   "cell_type": "code",
   "execution_count": 22,
   "metadata": {},
   "outputs": [
    {
     "name": "stdout",
     "output_type": "stream",
     "text": [
      "(1000,)\n",
      "(1000,)\n"
     ]
    },
    {
     "data": {
      "application/vnd.jupyter.widget-view+json": {
       "model_id": "bb3e34defe1c4936ba0bf8f087fafbe3",
       "version_major": 2,
       "version_minor": 0
      },
      "text/plain": [
       "A Jupyter Widget"
      ]
     },
     "metadata": {},
     "output_type": "display_data"
    }
   ],
   "source": [
    "# quiver plot, vector at each position\n",
    "x, y, z, u, v, w = np.random.random((6, 1000))*2-1\n",
    "\n",
    "print(np.shape(x))\n",
    "print(np.shape(u))\n",
    "\n",
    "quiver = ipv.quickquiver(x, y, z, u, v, w, size=5)\n",
    "ipv.show()"
   ]
  },
  {
   "cell_type": "code",
   "execution_count": 23,
   "metadata": {},
   "outputs": [
    {
     "data": {
      "application/vnd.jupyter.widget-view+json": {
       "model_id": "0163cb269c6d47668381cfbd5eaee677",
       "version_major": 2,
       "version_minor": 0
      },
      "text/plain": [
       "A Jupyter Widget"
      ]
     },
     "metadata": {},
     "output_type": "display_data"
    }
   ],
   "source": [
    "x, y, z, u, v, w = np.random.random((6, 1000))*2-1\n",
    "selected = np.random.randint(0, 1000, 100)\n",
    "ipv.figure()\n",
    "quiver = ipv.quiver(x, y, z, u, v, w, size=5, size_selected=8, selected=selected)\n",
    "\n",
    "from ipywidgets import FloatSlider, ColorPicker, VBox, jslink\n",
    "\n",
    "size = FloatSlider(min=0, max=30, step=0.1)\n",
    "size_selected = FloatSlider(min=0, max=30, step=0.1)\n",
    "color = ColorPicker()\n",
    "color_selected = ColorPicker()\n",
    "jslink((quiver, 'size'), (size, 'value'))\n",
    "jslink((quiver, 'size_selected'), (size_selected, 'value'))\n",
    "jslink((quiver, 'color'), (color, 'value'))\n",
    "jslink((quiver, 'color_selected'), (color_selected, 'value'))\n",
    "VBox([ipv.gcc(), size, size_selected, color, color_selected])"
   ]
  },
  {
   "cell_type": "code",
   "execution_count": 24,
   "metadata": {},
   "outputs": [
    {
     "data": {
      "image/png": "[encoded data removed]",
      "text/plain": [
       "<matplotlib.figure.Figure at 0x1035bb9b0>"
      ]
     },
     "metadata": {},
     "output_type": "display_data"
    }
   ],
   "source": [
    "out = Output()\n",
    "plt.figure()\n",
    "with out:\n",
    "        clear_output(wait=True)\n",
    "        plt.plot([1,2,3])\n",
    "        time.sleep(1)"
   ]
  },
  {
   "cell_type": "code",
   "execution_count": null,
   "metadata": {},
   "outputs": [],
   "source": []
  }
 ],
 "metadata": {
  "kernelspec": {
   "display_name": "Python 3",
   "language": "python",
   "name": "python3"
  },
  "language_info": {
   "codemirror_mode": {
    "name": "ipython",
    "version": 3
   },
   "file_extension": ".py",
   "mimetype": "text/x-python",
   "name": "python",
   "nbconvert_exporter": "python",
   "pygments_lexer": "ipython3",
   "version": "3.6.3"
  }
 },
 "nbformat": 4,
 "nbformat_minor": 2
}
