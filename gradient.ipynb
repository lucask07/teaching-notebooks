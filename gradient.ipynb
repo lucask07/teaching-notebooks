{
 "cells": [
  {
   "cell_type": "code",
   "execution_count": 1,
   "metadata": {},
   "outputs": [],
   "source": [
    "%load_ext autoreload\n",
    "%autoreload 2\n",
    "import numpy as np\n",
    "import matplotlib.pyplot as plt \n",
    "from mpl_toolkits.mplot3d import axes3d\n",
    "import matplotlib.cm as cm\n",
    "from IPython.display import display, Math, clear_output\n",
    "\n",
    "import sympy  #Sympy1.2 is from conda-forge: [sudo conda install -c conda-forge sympy]\n",
    "from sympy import *\n",
    "from sympy.physics.vector import ReferenceFrame, CoordinateSym\n",
    "from sympy.vector import CoordSys3D, divergence, curl\n",
    "\n",
    "import ipyvolume as ipv\n",
    "import time\n",
    "from ipywidgets import Output\n",
    "\n",
    "import helpers\n",
    "\n",
    "np.seterr(divide='ignore', invalid='ignore');"
   ]
  },
  {
   "cell_type": "markdown",
   "metadata": {},
   "source": [
    "## Symbolic Calculation of the Gradient "
   ]
  },
  {
   "cell_type": "code",
   "execution_count": 2,
   "metadata": {
    "collapsed": true
   },
   "outputs": [
    {
     "name": "stdout",
     "output_type": "stream",
     "text": [
      "Gradient of: x**2\n",
      "[2*x, 0, 0]\n",
      "(3,)\n",
      "(41, 41, 41), (41, 41, 41), (41, 41, 41)\n",
      "(41, 41, 41)\n",
      "[2, 0, 0]\n",
      "2\n"
     ]
    },
    {
     "data": {
      "application/vnd.jupyter.widget-view+json": {
       "model_id": "968fd9c097d84c3ba1a5db4c309f70ec",
       "version_major": 2,
       "version_minor": 0
      },
      "text/plain": [
       "A Jupyter Widget"
      ]
     },
     "metadata": {},
     "output_type": "display_data"
    }
   ],
   "source": [
    "#define symbolic vars, function\n",
    "x,y,z =sympy.symbols('x y z')\n",
    "fun = x**2\n",
    "\n",
    "# evaluate the gradient symbolically\n",
    "gradfun = [sympy.diff(fun, var) for var in (x,y,z)]\n",
    "print('Gradient of: {}'.format(fun))\n",
    "print(gradfun)\n",
    "print(np.shape(gradfun))\n",
    "\n",
    "#turn into a bivariate lambda for numpy\n",
    "numgradfun = sympy.lambdify([x,y,z], gradfun)\n",
    "\n",
    "x = np.linspace(-10, 10, 41)\n",
    "y = np.linspace(-10, 10, 41)\n",
    "z = np.linspace(-10, 10, 41)\n",
    "X, Y, Z = np.meshgrid(x,y,z, indexing='ij')\n",
    "\n",
    "gradient_eval = sum(numgradfun(X, Y, Z))\n",
    "\n",
    "print('{}, {}, {}'.format(np.shape(X),np.shape(Y),np.shape(Z)))\n",
    "print(np.shape(gradient_eval))\n",
    "print(numgradfun(1,1,2))\n",
    "print(sum(numgradfun(1,1,2)))\n",
    "ipv.figure()\n",
    "ipv.volshow(gradient_eval.T, opacity=0.03, level_width=0.1, data_min=0, data_max=1)\n",
    "ipv.view(azimuth = 115, elevation = 90)\n",
    "ipv.show()"
   ]
  }
 ],
 "metadata": {
  "kernelspec": {
   "display_name": "Python 3",
   "language": "python",
   "name": "python3"
  },
  "language_info": {
   "codemirror_mode": {
    "name": "ipython",
    "version": 3
   },
   "file_extension": ".py",
   "mimetype": "text/x-python",
   "name": "python",
   "nbconvert_exporter": "python",
   "pygments_lexer": "ipython3",
   "version": "3.6.3"
  }
 },
 "nbformat": 4,
 "nbformat_minor": 2
}
