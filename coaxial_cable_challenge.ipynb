{
 "cells": [
  {
   "cell_type": "code",
   "execution_count": 9,
   "metadata": {
    "collapsed": true
   },
   "outputs": [],
   "source": [
    "%matplotlib widget"
   ]
  },
  {
   "cell_type": "code",
   "execution_count": 10,
   "metadata": {
    "collapsed": true
   },
   "outputs": [],
   "source": [
    "import numpy as np\n",
    "import matplotlib.pyplot as plt \n",
    "from mpl_toolkits.mplot3d import axes3d\n",
    "import matplotlib.cm as cm\n",
    "from IPython.display import display, Math, clear_output\n",
    "\n",
    "import sympy \n",
    "from sympy import *\n",
    "from sympy.physics.vector import ReferenceFrame, CoordinateSym\n",
    "from sympy.vector import CoordSys3D, divergence, curl\n",
    "\n",
    "import ipyvolume as ipv\n",
    "import time\n",
    "from ipywidgets import Output, interact\n",
    "import ipywidgets as widgets\n",
    "np.seterr(divide='ignore', invalid='ignore')\n",
    "init_printing()"
   ]
  },
  {
   "cell_type": "markdown",
   "metadata": {},
   "source": [
    "## Coaxial Cable Challenge: \n",
    "* We will try to develop a coaxial cable that is perfect for our application. In the process we may discover that perfect depends on the context. \n",
    "\n",
    "### Coaxial Cable Design \n",
    "A coaxial cable consists of \n",
    "* Two conductors:\n",
    "    1. A centre core solid internal cylinder which \"carries the signal\". \n",
    "    2. A metallic child hollow outer cylinder which is held at ground potential. \n",
    "* A dielectric insulator between the two conductors."
   ]
  },
  {
   "cell_type": "markdown",
   "metadata": {},
   "source": [
    "<img src=\"img/Coaxial_cable_cutaway.svg\" width=\"680\" height=\"680\" align=\"center\"/>\n",
    "\n",
    "By Tkgd2007 - Own work, CC BY 3.0, https://commons.wikimedia.org/w/index.php?curid=4138900"
   ]
  },
  {
   "cell_type": "markdown",
   "metadata": {},
   "source": [
    "***\n",
    "### There are **three critical parameters** of the cable that we will use our electromagnetism skills to study. \n",
    "1. The **capacitance**: $ C = \\dfrac{Q}{V}$ which relates the amount of charge needed on the centre core to charge it to a certain voltage. \n",
    "2. The **inductance**: $ L = \\dfrac{V_{drop}}{(\\dfrac{dI}{dt})}$\n",
    "3. And the **resistance**.\n",
    "\n",
    "\n",
    "* The voltage $V$ in the capacitance expression is the voltage of the centre core with respect to ground. \n",
    "* The voltage $V_{drop}$ is the voltage difference between two segments of the centre core that is induced by a time change of current."
   ]
  },
  {
   "cell_type": "markdown",
   "metadata": {},
   "source": [
    "Referring to Griffiths problem 2.43 find the capacitance per unit length of two coaxial cylindrical tubes:\n",
    "\n",
    "<img src=\"img/Griffiths_2p43.png\" width=\"680\" height=\"680\" align=\"center\"/>\n",
    "\n",
    "## Solve for the Capacitance\n",
    "#### Step 1: ** Find the E-Field ** (use cylindrical coordinates):\n",
    "\n",
    "$\\int \\mathbf{E}\\cdot{\\mathbf{dA}} = \\dfrac{Q_{enc}}{\\epsilon}$\n",
    "By symmetry the E-field is parallel to the normal vector of the cylindrical surface (assume $Q$ charge over a length of $L$). \n",
    "\n",
    "So: $E(2\\pi s*L) = \\dfrac{Q}{\\epsilon} \\Rightarrow$ $\\mathbf{E} = \\dfrac{Q}{2\\pi s L  \\epsilon} \\hat{\\mathbf{s}} $\n",
    "\n",
    "#### Step 2: Find the potential. Capacitance depends on the voltage so let's find the potential between the inner and outer cylinders. \n",
    "\n",
    "$-\\int_a^b \\mathbf{E}\\cdot \\mathbf{dl} = V(b) - V(a) = -\\dfrac{Q}{2\\pi L  \\epsilon} \\int_a^b \\dfrac{ds}{s} \\Rightarrow$\n",
    "\n",
    "$ V(a) - V(b) = \\dfrac{Q}{2\\pi L  \\epsilon} \\ln{\\left(\\dfrac{b}{a} \\right)} $\n",
    "\n",
    "Capacitance ($C$) per unit length ($l$):\n",
    "$ \\dfrac{C}{l} = \\dfrac{Q}{V} \\dfrac{1}{l} \\Rightarrow \\dfrac{C}{l} = \\dfrac{2 \\pi \\epsilon}{\\ln{\\left(\\dfrac{b}{a} \\right)}} $\n",
    "\n",
    "## Solve for the Inductance\n",
    "#### Step 1: ** Find the B-Field within the cable ** (use cylindrical coordinates and an Amperian Loop):\n",
    "\n",
    "$\\oint \\mathbf{B}\\cdot{\\mathbf{dl}} = \\mu I$\n",
    "By symmetry the E-field is parallel to the circular Amperian loop of radius $r$.\n",
    "$B(2\\pi r) = \\mu I$\n",
    "\n",
    "So: $\\mathbf{B} = \\dfrac{\\mu I}{2 \\pi r} \\hat{\\mathbf{\\phi}} $\n",
    "\n",
    "#### Step 2: Find the magnetic flux through a loop between the two conductors. \n",
    "\n",
    "$\\Phi = \\int \\mathbf{B}\\cdot \\mathbf{dA} = \\int_{r=a}^{r=b} \\dfrac{\\mu I}{2 \\pi r} l dr = \\dfrac{\\mu I}{2 \\pi} l \\ln{\\left(\\dfrac{b}{a} \\right)}$\n",
    "\n",
    "Inductance ($L$) per unit length ($l$):\n",
    "$ V_{drop} = \\dfrac{d\\Phi}{dt} = L \\dfrac{dI}{dt} $ \n",
    "\n",
    "$ \\dfrac{d\\Phi}{dt} = \\dfrac{\\mu}{2 \\pi} l \\ln{\\left(\\dfrac{b}{a} \\right) \\dfrac{dI}{dt}}$\n",
    "\n",
    "$ \\dfrac{L}{l} = \\dfrac{\\mu}{2 \\pi} \\ln{\\left(\\dfrac{b}{a} \\right)}$"
   ]
  },
  {
   "cell_type": "markdown",
   "metadata": {},
   "source": [
    "## Plot the Capacitance and Inductance Versus the inner diameter. Use:\n",
    "1. a slider to adjust the outer diameter and \n",
    "2. a drop down box to adjust the  dielectric."
   ]
  },
  {
   "cell_type": "code",
   "execution_count": 11,
   "metadata": {},
   "outputs": [
    {
     "data": {
      "application/vnd.jupyter.widget-view+json": {
       "model_id": "07dd869e9ddb439193b100f68f8f6ee0",
       "version_major": 2,
       "version_minor": 0
      },
      "text/plain": [
       "A Jupyter Widget"
      ]
     },
     "metadata": {},
     "output_type": "display_data"
    },
    {
     "data": {
      "application/vnd.jupyter.widget-view+json": {
       "model_id": "0f900d7a8968472481744379035e67d3",
       "version_major": 2,
       "version_minor": 0
      },
      "text/plain": [
       "A Jupyter Widget"
      ]
     },
     "metadata": {},
     "output_type": "display_data"
    }
   ],
   "source": [
    "plt.close('all')\n",
    "a = np.linspace(0.05, 2, 1000) # inner radius [in mm]\n",
    "\n",
    "fig = plt.figure(figsize = (11,8))\n",
    "\n",
    "# constants and equation for capacitance\n",
    "e0 = 8.85e-12\n",
    "b = 3\n",
    "cap = 2*np.pi*e0/np.log(b/a)*1e12\n",
    "dielectrics = {'air': 1, 'polyethylene': 2.25, 'teflon_PTFE': 2.1}\n",
    "\n",
    "# plot capacitance \n",
    "ax1 = fig.add_subplot(1, 2, 1)\n",
    "line, = ax1.plot(a, cap)\n",
    "ax1.set_ylim([0, np.max(cap[np.isfinite(cap)])*1.1])\n",
    "# label plot\n",
    "ax1.set_title('Capacitance')\n",
    "plt.ylabel('C [pF/m]')\n",
    "plt.xlabel('a:inner diameter [mm]')\n",
    "ax1.grid(True)\n",
    "\n",
    "# constants and equation for inducatance\n",
    "u0 = 4*np.pi*1e-7\n",
    "ind = u0/(2*np.pi)*np.log(b/a)*1e9\n",
    "\n",
    "ax2 = fig.add_subplot(1, 2, 2)\n",
    "line2, = ax2.plot(a, ind)\n",
    "ax2.set_ylim([0, np.max(ind[np.isfinite(ind)])*1.1])\n",
    "\n",
    "# label plot\n",
    "ax2.set_title('Inductance')\n",
    "plt.ylabel('L [nH/m]')\n",
    "plt.xlabel('a:inner diameter [mm]')\n",
    "ax2.grid(True)\n",
    "\n",
    "def update(b=widgets.FloatSlider(min=0.0,max=100.0,step=0.1,value=5), \n",
    "           dielectric = ['air', 'polyethylene', 'teflon_PTFE']):\n",
    "    \n",
    "    # capacitance \n",
    "    er = dielectrics[dielectric]\n",
    "    cap = 2*np.pi*e0*er/np.log(b/a)*1e12\n",
    "    \n",
    "    # find negative values\n",
    "    idx = cap<0\n",
    "    line.set_ydata(cap)\n",
    "    line.set_marker('*')\n",
    "    fig.canvas.draw()\n",
    "    ax1.set_ylim([0, np.max([np.max(cap[np.isfinite(cap)])*1.1, 0.5])])\n",
    "    \n",
    "    # inductance \n",
    "    ind = u0/(2*np.pi)*np.log(b/a)*1e9\n",
    "    \n",
    "    # remove any negative values\n",
    "    idx = ind<0\n",
    "    line2.set_ydata(ind)\n",
    "    line2.set_marker('*')\n",
    "    fig.canvas.draw()\n",
    "    ax2.set_ylim([0, np.max([np.max(ind[np.isfinite(ind)])*1.1, 0.5])])\n",
    "\n",
    "interact(update);"
   ]
  },
  {
   "cell_type": "markdown",
   "metadata": {},
   "source": [
    "## Plot the Resistance Versus the inner diameter (no slider needed in this case)."
   ]
  },
  {
   "cell_type": "code",
   "execution_count": 4,
   "metadata": {},
   "outputs": [
    {
     "data": {
      "image/png": "[encoded data removed]",
      "text/plain": [
       "<Figure size 792x576 with 1 Axes>"
      ]
     },
     "metadata": {},
     "output_type": "display_data"
    }
   ],
   "source": [
    "a = np.linspace(0, 2, 1000) # inner radius [in mm]\n",
    "fig = plt.figure(figsize = (11,8))\n",
    "ax1 = fig.add_subplot(1, 1, 1)\n",
    "ax1.set_title('Resistance -- no slider')\n",
    "plt.ylabel('R [milli-Ohm]')\n",
    "plt.xlabel('a:inner diameter [mm]')\n",
    "\n",
    "# resistance \n",
    "a = np.linspace(0.05, 2, 1000) # inner radius [in mm]\n",
    "rho = 1.68e-8  # Ohm * m \n",
    "data = rho/(np.pi * (a*1e-3)**2) \n",
    "line, = ax1.plot(a, data)\n",
    "line.set_marker('*')\n",
    "plt.grid(True)"
   ]
  },
  {
   "cell_type": "code",
   "execution_count": 5,
   "metadata": {
    "collapsed": true
   },
   "outputs": [],
   "source": [
    "plt.close('all')"
   ]
  },
  {
   "cell_type": "code",
   "execution_count": null,
   "metadata": {
    "collapsed": true
   },
   "outputs": [],
   "source": []
  }
 ],
 "metadata": {
  "kernelspec": {
   "display_name": "Python 3",
   "language": "python",
   "name": "python3"
  },
  "language_info": {
   "codemirror_mode": {
    "name": "ipython",
    "version": 3
   },
   "file_extension": ".py",
   "mimetype": "text/x-python",
   "name": "python",
   "nbconvert_exporter": "python",
   "pygments_lexer": "ipython3",
   "version": "3.6.3"
  }
 },
 "nbformat": 4,
 "nbformat_minor": 2
}
