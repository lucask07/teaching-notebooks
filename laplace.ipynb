{
 "cells": [
  {
   "cell_type": "code",
   "execution_count": 8,
   "metadata": {
    "collapsed": true,
    "slideshow": {
     "slide_type": "skip"
    }
   },
   "outputs": [],
   "source": [
    "%matplotlib widget"
   ]
  },
  {
   "cell_type": "code",
   "execution_count": 9,
   "metadata": {
    "collapsed": true,
    "slideshow": {
     "slide_type": "skip"
    }
   },
   "outputs": [],
   "source": [
    "import numpy as np\n",
    "import matplotlib.pyplot as plt \n",
    "from mpl_toolkits.mplot3d import axes3d\n",
    "import matplotlib.cm as cm\n",
    "from IPython.display import display, Math, clear_output\n",
    "\n",
    "import sympy \n",
    "from sympy import *\n",
    "from sympy.physics.vector import ReferenceFrame, CoordinateSym\n",
    "from sympy.vector import CoordSys3D, divergence, curl\n",
    "\n",
    "import ipyvolume as ipv\n",
    "import time\n",
    "from ipywidgets import Output, interact\n",
    "import ipywidgets as widgets\n",
    "np.seterr(divide='ignore', invalid='ignore')\n",
    "init_printing()"
   ]
  },
  {
   "cell_type": "markdown",
   "metadata": {
    "slideshow": {
     "slide_type": "slide"
    }
   },
   "source": [
    "## Laplace's Equation:\n",
    "* In a space with a volume charge density Poisson's equation is: $ \\nabla^{2}V = -\\rho/\\epsilon_0$ \n",
    "* In a space with *no charge* the Laplacian of the potential is given as:\n",
    "$ \\nabla^{2}V = 0$  <-- This is Laplace's equation. \n",
    "* Given boundary conditions, i.e. the potential specified around the edges, we can solve Laplace's equation to find the voltage everywhere.\n",
    "\n",
    "## The Laplacian \n",
    "* Recall the Laplacian is the divergence of the gradient:\n",
    "$\\nabla \\cdot \\nabla V = (\\frac{\\partial}{\\partial x} \\hat{x} + \\frac{\\partial}{\\partial y} \\hat{y} + \\frac{\\partial}{\\partial z} \\hat{z} ) \\cdot (\\frac{\\partial V}{\\partial x} \\hat{x} + \\frac{\\partial V}{\\partial y} \\hat{y} + \\frac{\\partial V}{\\partial z} \\hat{z}) = \\frac{\\partial^2 V}{\\partial^2 x} + \\frac{\\partial^2 V}{\\partial^2 y} + \\frac{\\partial^2 V}{\\partial^2 z}$ \n",
    "\n",
    "**The Laplace equation in words**: at every point the amount you can go up is equal to the amount you can go down (if all directions are considered). \n"
   ]
  },
  {
   "cell_type": "markdown",
   "metadata": {
    "slideshow": {
     "slide_type": "slide"
    }
   },
   "source": [
    "## Laplace's Equation in Practice \n",
    "Laplace's equation is used to:\n",
    "1. Solve for **electrostatic potentials** given boundary conditions (voltages at the edges).  \n",
    "2. Solve for **temperature** throughout a volume given boundary conditions and no heat sources.\n",
    "3. **Fluid flow**\n",
    "4. **Gravitation** "
   ]
  },
  {
   "cell_type": "markdown",
   "metadata": {
    "slideshow": {
     "slide_type": "slide"
    }
   },
   "source": [
    "## Laplace's Equation in 1D\n",
    "* $\\frac{\\partial^2 V}{\\partial^2 x} = 0$\n",
    "So what does this mean? \n",
    "\n",
    "\n",
    "The solution is a linear function of the form $ V(x) = mx + b$\n",
    "\n",
    "If one end of a rod is at 10 $^\\circ$C and the other end of the rod is at 60 $^\\circ$C. The temperature will vary linearly between those two ends. \n",
    "\n",
    "Question: How many boundary conditions do we need to solve Laplace's equation in 1D?\n"
   ]
  },
  {
   "cell_type": "code",
   "execution_count": 10,
   "metadata": {
    "slideshow": {
     "slide_type": "subslide"
    }
   },
   "outputs": [
    {
     "data": {
      "application/vnd.jupyter.widget-view+json": {
       "model_id": "643d86a041544060966bb41b4aa423ae",
       "version_major": 2,
       "version_minor": 0
      },
      "text/plain": [
       "A Jupyter Widget"
      ]
     },
     "metadata": {},
     "output_type": "display_data"
    },
    {
     "data": {
      "text/plain": [
       "Text(0.5, 0, 'Position along rod')"
      ]
     },
     "execution_count": 10,
     "metadata": {},
     "output_type": "execute_result"
    }
   ],
   "source": [
    "plt.ion()\n",
    "plt.figure()\n",
    "plt.plot(np.linspace(10, 60, 40))\n",
    "plt.ylabel('Temp [C]')\n",
    "plt.xlabel('Position along rod')"
   ]
  },
  {
   "cell_type": "markdown",
   "metadata": {
    "slideshow": {
     "slide_type": "slide"
    }
   },
   "source": [
    "## Laplace's Equation in 1D: Takeaways\n",
    "* Any point is the average of its neighbors -- remember that at each point there must be an equal opportunity to go down as to go up. \n",
    "- $V(x) = \\frac{1}{2} [ V(x+a) + V(x-a)]$ for small $a$\n",
    "* Each point is an average of neighbors implies that the interior of the solutions has no **maximums** nor **minimums**. "
   ]
  },
  {
   "cell_type": "markdown",
   "metadata": {},
   "source": [
    "## Laplace's Equation in 2D \n",
    "\n",
    "$\\frac{\\partial^2 V}{\\partial^2 x} + \\frac{\\partial^2 V}{\\partial^2 y} = 0$\n",
    "\n",
    "### Average of neighbors\n",
    "The assertion that every point is the average of its neighbors is equivalent to:\n",
    "\n",
    "$ V(x,y) = \\frac{1}{2 \\pi R} \\oint V dl$ \n",
    "\n",
    "where the integral is around a circle that surrounds point $x,y$\n",
    "\n",
    "### No Max and No Min in the Interior\n",
    "\n",
    "If $x,y$ was a maximum:\n",
    "$ V(x,y) = \\frac{1}{2 \\pi R} \\oint V dl$ \n",
    "would be false\n",
    "\n",
    "If $x,y$ was a minimum \n",
    "$ V(x,y) = \\frac{1}{2 \\pi R} \\oint V dl$ \n",
    "would be false\n",
    "\n",
    "### A Saddle Point is OK (minimax point)\n",
    "At a saddle point: The slopes in orthogonal directions are both zero but the point is not an extrememum. \n",
    "![img](saddle_point.png \"Saddle Point Example\")\n"
   ]
  },
  {
   "cell_type": "code",
   "execution_count": 11,
   "metadata": {
    "collapsed": true,
    "slideshow": {
     "slide_type": "skip"
    }
   },
   "outputs": [],
   "source": [
    "# Iterative solution to Laplace's Equation in 2D \n",
    "# plot first guess \n",
    "# iteration 10 \n",
    "# iteration 20 \n",
    "# iteration 500 \n",
    "\n",
    "def draw_plot(x, y, U, plt_title=''):\n",
    "    plt.ion()\n",
    "    fig = plt.figure()\n",
    "    ax = fig.add_subplot(111, projection='3d')    \n",
    "    ax.clear()\n",
    "    ax.set_zlim(-3, 6)\n",
    "    ax.plot_surface(x, y, U, rstride=1, cstride=1, cmap=cm.coolwarm,\n",
    "                    linewidth=0, antialiased=True)\n",
    "    ax.set_title(plt_title)\n",
    "    return ax\n",
    "    \n",
    "def update_plot(x, y, U, ax, plt_title=''): \n",
    "    print('update')\n",
    "    ax.clear()\n",
    "    ax.set_zlim(-3, 6)\n",
    "    ax.plot_surface(x, y, U, rstride=1, cstride=1, cmap=cm.coolwarm,\n",
    "                    linewidth=0, antialiased=True)\n",
    "    ax.set_title(plt_title)"
   ]
  },
  {
   "cell_type": "code",
   "execution_count": 12,
   "metadata": {
    "slideshow": {
     "slide_type": "slide"
    }
   },
   "outputs": [
    {
     "data": {
      "application/vnd.jupyter.widget-view+json": {
       "model_id": "7ca7673a4dc04e7fa64e07f1a1908810",
       "version_major": 2,
       "version_minor": 0
      },
      "text/plain": [
       "A Jupyter Widget"
      ]
     },
     "metadata": {},
     "output_type": "display_data"
    },
    {
     "data": {
      "text/plain": [
       "<matplotlib.axes._subplots.Axes3DSubplot at 0x181ebef710>"
      ]
     },
     "execution_count": 12,
     "metadata": {},
     "output_type": "execute_result"
    }
   ],
   "source": [
    "# Create 21x21 mesh grid\n",
    "m = 21\n",
    "mesh_range = np.arange(-1, 1, 2/(m-1))\n",
    "x, y = np.meshgrid(mesh_range, mesh_range)\n",
    "\n",
    "# Initial condition\n",
    "bc = 3\n",
    "U = np.exp(-5 * (x**2 + y**2))\n",
    "# U[0,:] = bc\n",
    "# U[m-2,:] = bc\n",
    "# U[:,0] = bc\n",
    "# U[:,m-2] = bc\n",
    "U[0,:] = np.hstack([np.linspace(-1,3,10), np.linspace(3,-2,10)])\n",
    "U[m-2,:] = np.linspace(2,2,20)\n",
    "U[:,0] = np.linspace(-1,2,20)\n",
    "U[:,m-2] = np.linspace(3,2,20)\n",
    "\n",
    "plot_iter = np.array([1,20,499])\n",
    "U_iter = np.repeat(U[:,:,np.newaxis], 500, axis=2)\n",
    "\n",
    "draw_plot(x, y, U_iter[:,:,0], plt_title = 'Iteration 0')"
   ]
  },
  {
   "cell_type": "code",
   "execution_count": 13,
   "metadata": {
    "slideshow": {
     "slide_type": "slide"
    }
   },
   "outputs": [
    {
     "data": {
      "application/vnd.jupyter.widget-view+json": {
       "model_id": "7b0fb0de97ea42648b1e04efdf3ac725",
       "version_major": 2,
       "version_minor": 0
      },
      "text/plain": [
       "A Jupyter Widget"
      ]
     },
     "metadata": {},
     "output_type": "display_data"
    },
    {
     "data": {
      "application/vnd.jupyter.widget-view+json": {
       "model_id": "cbbd95cfe51d440ab8b0b8ba9c86d13a",
       "version_major": 2,
       "version_minor": 0
      },
      "text/plain": [
       "A Jupyter Widget"
      ]
     },
     "metadata": {},
     "output_type": "display_data"
    },
    {
     "data": {
      "application/vnd.jupyter.widget-view+json": {
       "model_id": "379ec6b53b054563b1b0fbe408f1641a",
       "version_major": 2,
       "version_minor": 0
      },
      "text/plain": [
       "A Jupyter Widget"
      ]
     },
     "metadata": {},
     "output_type": "display_data"
    }
   ],
   "source": [
    "n = list(range(1, m-1)) + [m-2]\n",
    "e = n\n",
    "s = [0] + list(range(0, m-2))\n",
    "w = s\n",
    "\n",
    "def pde_step(U):\n",
    "    \"\"\" PDE calculation at a single time step t. \n",
    "    Replace each value with the value of its neighbors.  \"\"\"\n",
    "    return (U[n, :]+U[:, e]+U[s, :]+U[:, w])/4.\n",
    "\n",
    "k = 5\n",
    "U_step = U\n",
    "\n",
    "for it in range(500):\n",
    "    U_step = pde_step(U_step)\n",
    "    U_step[0,:] = np.hstack([np.linspace(-1,3,10), np.linspace(3,-2,10)])\n",
    "    U_step[m-2,:] = np.linspace(2,2,20)\n",
    "    U_step[:,0] = np.linspace(-1,2,20)\n",
    "    U_step[:,m-2] = np.linspace(3,2,20)\n",
    "    \n",
    "    U_iter[:,:,it] = U_step\n",
    "    # Every iteration that matches selected array, plot the value \n",
    "    if it in plot_iter:\n",
    "        draw_plot(x, y, U_step, plt_title = 'Iteration {}'.format(it))"
   ]
  },
  {
   "cell_type": "code",
   "execution_count": 14,
   "metadata": {
    "slideshow": {
     "slide_type": "slide"
    }
   },
   "outputs": [
    {
     "data": {
      "application/vnd.jupyter.widget-view+json": {
       "model_id": "6a4dcbfe5c864a6a93d3d8c1e07f4a4d",
       "version_major": 2,
       "version_minor": 0
      },
      "text/plain": [
       "A Jupyter Widget"
      ]
     },
     "metadata": {},
     "output_type": "display_data"
    },
    {
     "data": {
      "application/vnd.jupyter.widget-view+json": {
       "model_id": "7c6efeb93c064c62a87cb7975490615c",
       "version_major": 2,
       "version_minor": 0
      },
      "text/plain": [
       "A Jupyter Widget"
      ]
     },
     "metadata": {},
     "output_type": "display_data"
    }
   ],
   "source": [
    "ax = draw_plot(x, y, U_iter[:,:,5], plt_title='Iteration {}'.format(5))\n",
    "\n",
    "def update(iteration=widgets.IntSlider(min=0,max=500,step=1,value=0)):\n",
    "    update_plot(x, y, U_iter[:,:,iteration], ax, plt_title = 'Iteration {}'.format(iteration))\n",
    "\n",
    "interact(update);"
   ]
  },
  {
   "cell_type": "markdown",
   "metadata": {},
   "source": []
  },
  {
   "cell_type": "code",
   "execution_count": null,
   "metadata": {
    "collapsed": true
   },
   "outputs": [],
   "source": []
  }
 ],
 "metadata": {
  "kernelspec": {
   "display_name": "Python 3",
   "language": "python",
   "name": "python3"
  },
  "language_info": {
   "codemirror_mode": {
    "name": "ipython",
    "version": 3
   },
   "file_extension": ".py",
   "mimetype": "text/x-python",
   "name": "python",
   "nbconvert_exporter": "python",
   "pygments_lexer": "ipython3",
   "version": "3.6.3"
  }
 },
 "nbformat": 4,
 "nbformat_minor": 2
}
